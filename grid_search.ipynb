{
 "cells": [
  {
   "cell_type": "markdown",
   "id": "laden-athens",
   "metadata": {},
   "source": [
    "## Set things up"
   ]
  },
  {
   "cell_type": "code",
   "execution_count": 1,
   "id": "contemporary-buffer",
   "metadata": {},
   "outputs": [],
   "source": [
    "%matplotlib inline\n",
    "import os\n",
    "import pandas as pd\n",
    "import datetime\n",
    "import matplotlib.pyplot as plt\n",
    "import numpy as np\n",
    "\n",
    "from sklearn.model_selection import StratifiedShuffleSplit\n",
    "from sklearn.preprocessing import OneHotEncoder\n",
    "from sklearn.base import BaseEstimator, TransformerMixin\n",
    "from sklearn.pipeline import Pipeline\n",
    "from sklearn.preprocessing import StandardScaler\n",
    "from sklearn.compose import ColumnTransformer\n",
    "from sklearn.linear_model import LinearRegression\n",
    "from sklearn.metrics import mean_squared_error\n",
    "from sklearn.tree import DecisionTreeRegressor\n",
    "from sklearn.model_selection import cross_val_score\n",
    "from sklearn.ensemble import RandomForestRegressor  # not sure I'm going to use this\n",
    "from sklearn.model_selection import GridSearchCV"
   ]
  },
  {
   "cell_type": "code",
   "execution_count": 2,
   "id": "simple-chuck",
   "metadata": {},
   "outputs": [],
   "source": [
    "RAW_DATA_SOURCE = \"C:/Users/sbranchett/Data/WiFi_data/WiFiAccessPoint.csv\"\n",
    "CLEAN_DATA_SOURCE = \"CleanedWiFiAccessPoint.csv\""
   ]
  },
  {
   "cell_type": "markdown",
   "id": "magnetic-passport",
   "metadata": {},
   "source": [
    "## Read in data"
   ]
  },
  {
   "cell_type": "code",
   "execution_count": 3,
   "id": "accompanied-slovak",
   "metadata": {},
   "outputs": [
    {
     "name": "stdout",
     "output_type": "stream",
     "text": [
      "3597531\n"
     ]
    }
   ],
   "source": [
    "def load_wifi_data(path):\n",
    "    \"\"\"\n",
    "    Read WiFi clientCount .csv file and sum the clientCounts over building and timestamp, bucketed to 5 minutes\n",
    "    \n",
    "    Input: filepath the .csv file\n",
    "    Output: Dataframe with \"building\", \"time_bucket\", \"clientCount\"\n",
    "    Columns \"building\" generated from \"locationHierarchy\", and \"time_bucket\" generated from \"timestamp\"\n",
    "    \"\"\"\n",
    "    all_data = pd.read_csv(path, delimiter=\",\")\n",
    "    all_data = all_data.rename(columns=lambda x: x.strip())  # get rid of extra spaces in column names\n",
    "\n",
    "    sum_clientCounts = all_data[\"clientCount\"].sum()\n",
    "    \n",
    "    # extract building from 'locationHierarchy' string and deal with unknown buildings\n",
    "    all_data[\"building\"] = all_data[\"locationHierarchy\"].str.split(\" > \",expand=True)[1]\n",
    "    all_data[\"building\"] = all_data[\"building\"].fillna(\"Unknown\")\n",
    "\n",
    "    # convert timestamp from epoch milliseconds to 5 minute buckets (1000 milliseconds * 60 seconds * 5 minutes)\n",
    "    all_data[\"time_bucket\"] = all_data[\"timestamp\"].apply(lambda d: 300000*int(d/300000))\n",
    "    \n",
    "    # keep only the interesting columns\n",
    "    all_data = all_data[[\"time_bucket\", \"building\", \"clientCount\"]]\n",
    "    \n",
    "    # sum data over buildings and time buckets\n",
    "    all_data = all_data.groupby([\"time_bucket\", \"building\"]).sum()  # sort on time first so that new data keeps sequence\n",
    "    \n",
    "    assert sum_clientCounts == all_data[\"clientCount\"].sum()  # check that no clientCounts went missing\n",
    "\n",
    "    return all_data\n",
    "\n",
    "# if possible read in the cleaned data, otherwise clean the raw data and save\n",
    "if os.path.isfile(CLEAN_DATA_SOURCE):\n",
    "    all_data = pd.read_csv(CLEAN_DATA_SOURCE, delimiter=\",\")\n",
    "else:\n",
    "    all_data = load_wifi_data(RAW_DATA_SOURCE)\n",
    "    all_data.to_csv(CLEAN_DATA_SOURCE)\n",
    "\n",
    "print(all_data[\"clientCount\"].sum())  # should be 3597531"
   ]
  },
  {
   "cell_type": "code",
   "execution_count": 4,
   "id": "separated-rough",
   "metadata": {},
   "outputs": [
    {
     "name": "stdout",
     "output_type": "stream",
     "text": [
      "         time_bucket               building  clientCount\n",
      "0      1620991800000      03-Science Center           34\n",
      "1      1620991800000             05-TNW-BIO            1\n",
      "2      1620991800000             08-BK-City            2\n",
      "3      1620991800000   19-Studuitzendbureau           13\n",
      "4      1620991800000                20-Aula           32\n",
      "...              ...                    ...          ...\n",
      "78161  1621608600000                 64-HSL           10\n",
      "78162  1621608600000          66-Fellowship          126\n",
      "78163  1621608600000  Katalyse Labaratorium            8\n",
      "78164  1621608600000                Unknown           32\n",
      "78165  1621608600000           VLL-LAB(TNO)           11\n",
      "\n",
      "[78166 rows x 3 columns]\n"
     ]
    }
   ],
   "source": [
    "all_data = all_data.reset_index().drop(\"index\", axis=1)  # get rid of multiindex for StratifiedShuffleSplit\n",
    "print(all_data)"
   ]
  },
  {
   "cell_type": "markdown",
   "id": "variable-sussex",
   "metadata": {},
   "source": [
    "## Separate Test Set stratified over buildings"
   ]
  },
  {
   "cell_type": "code",
   "execution_count": 5,
   "id": "desperate-chambers",
   "metadata": {},
   "outputs": [
    {
     "name": "stdout",
     "output_type": "stream",
     "text": [
      "         time_bucket                           building  clientCount\n",
      "11688  1621083900000                    37-Sportcentrum           15\n",
      "61351  1621476000000                         36-ESP-Lab            1\n",
      "55780  1621431900000                      66-Fellowship          101\n",
      "26158  1621198200000                          32-OCP-IO           12\n",
      "34879  1621266900000                             64-HSL           16\n",
      "...              ...                                ...          ...\n",
      "50892  1621393500000                            28- WNI            4\n",
      "33498  1621256100000  36-EWI LB_K t/m 3 & HB_K  t/m 2e           247\n",
      "4160   1621024500000                      35-Drebbelweg            2\n",
      "56082  1621434300000                          63-Simona            8\n",
      "55786  1621432200000                         08-BK-City          670\n",
      "\n",
      "[62532 rows x 3 columns]\n"
     ]
    }
   ],
   "source": [
    "split = StratifiedShuffleSplit(n_splits=1, test_size=0.2, random_state=42)\n",
    "\n",
    "for train_index, test_index in split.split(all_data, all_data[\"building\"]):\n",
    "    strat_train_set = all_data.loc[train_index]\n",
    "    strat_test_set = all_data.loc[test_index]\n",
    "\n",
    "print(strat_train_set)"
   ]
  },
  {
   "cell_type": "markdown",
   "id": "advised-fraud",
   "metadata": {},
   "source": [
    "## Create Work days and Student days"
   ]
  },
  {
   "cell_type": "code",
   "execution_count": 6,
   "id": "prescribed-central",
   "metadata": {},
   "outputs": [],
   "source": [
    "uni_hols = (datetime.date(year=2021, month=5, day=5),\n",
    "            datetime.date(year=2021, month=5, day=13),\n",
    "            datetime.date(year=2021, month=5, day=14),\n",
    "            datetime.date(year=2021, month=5, day=24)\n",
    "           )  # National Holidays and Collective Free days\n",
    "\n",
    "def roster(date):\n",
    "    # categorise the days of the academic year at TU Delft between 1 May 2021 and 29 August 2021\n",
    "    \n",
    "    if (date > datetime.date(year=2021, month=5, day=16)) and \\\n",
    "       (date < datetime.date(year=2021, month=5, day=22)):\n",
    "        categorie = \"Exam_BSc\"\n",
    "    elif (date > datetime.date(year=2021, month=6, day=15)) and \\\n",
    "         (date < datetime.date(year=2021, month=6, day=19)):\n",
    "        categorie = \"Study_mixed\"\n",
    "    elif (date > datetime.date(year=2021, month=6, day=22)) and \\\n",
    "         (date < datetime.date(year=2021, month=6, day=26)):\n",
    "        categorie = \"Exam_mixed\"\n",
    "    elif (date > datetime.date(year=2021, month=6, day=29)) and \\\n",
    "         (date < datetime.date(year=2021, month=7, day=3)):\n",
    "        categorie = \"Exam\"\n",
    "    elif (date > datetime.date(year=2021, month=8, day=8)) and \\\n",
    "         (date < datetime.date(year=2021, month=8, day=14)):\n",
    "        categorie = \"Exam\"\n",
    "    elif (date > datetime.date(year=2021, month=7, day=4)):\n",
    "        categorie = \"Free\"\n",
    "    else:\n",
    "        categorie = \"Learn\"\n",
    "    return categorie"
   ]
  },
  {
   "cell_type": "markdown",
   "id": "found-mathematics",
   "metadata": {},
   "source": [
    "## Separate predictions and labels"
   ]
  },
  {
   "cell_type": "code",
   "execution_count": 7,
   "id": "different-giving",
   "metadata": {},
   "outputs": [
    {
     "name": "stdout",
     "output_type": "stream",
     "text": [
      "         time_bucket                           building\n",
      "11688  1621083900000                    37-Sportcentrum\n",
      "61351  1621476000000                         36-ESP-Lab\n",
      "55780  1621431900000                      66-Fellowship\n",
      "26158  1621198200000                          32-OCP-IO\n",
      "34879  1621266900000                             64-HSL\n",
      "...              ...                                ...\n",
      "50892  1621393500000                            28- WNI\n",
      "33498  1621256100000  36-EWI LB_K t/m 3 & HB_K  t/m 2e \n",
      "4160   1621024500000                      35-Drebbelweg\n",
      "56082  1621434300000                          63-Simona\n",
      "55786  1621432200000                         08-BK-City\n",
      "\n",
      "[62532 rows x 2 columns]\n"
     ]
    }
   ],
   "source": [
    "crowd = strat_train_set.drop(\"clientCount\", axis=1)\n",
    "crowd_labels = strat_train_set[\"clientCount\"].copy()\n",
    "print(crowd)"
   ]
  },
  {
   "cell_type": "code",
   "execution_count": 8,
   "id": "shaped-greeting",
   "metadata": {},
   "outputs": [],
   "source": [
    "assert crowd.isnull().values.any() == False  # check there are no missing values"
   ]
  },
  {
   "cell_type": "markdown",
   "id": "partial-contractor",
   "metadata": {},
   "source": [
    "## Build Transformers"
   ]
  },
  {
   "cell_type": "code",
   "execution_count": 9,
   "id": "developing-sodium",
   "metadata": {},
   "outputs": [],
   "source": [
    "# specify which extra attributes to add to the data\n",
    "# want to treat these as hyperparameters for grid search\n",
    "add_day_of_week=False\n",
    "add_time_of_day=False\n",
    "add_uni_hols=False\n",
    "add_weekend=False\n",
    "add_academic_yr=False"
   ]
  },
  {
   "cell_type": "code",
   "execution_count": 10,
   "id": "animated-velvet",
   "metadata": {},
   "outputs": [],
   "source": [
    "# Set up categories for OneHotEncoder.\n",
    "# This is needed later for the transformation of small sets that do not contain all the categories.\n",
    "\n",
    "buildings = list(set(all_data[\"building\"].values))\n",
    "rosters = [\"Exam_BSc\", \"Study_mixed\", \"Exam_mixed\", \"Exam\", \"Free\", \"Learn\"]  # get a list of all roster categories, SEB could be improved"
   ]
  },
  {
   "cell_type": "code",
   "execution_count": 11,
   "id": "touched-request",
   "metadata": {},
   "outputs": [],
   "source": [
    "# Combined the Adder and Transformer so that Grid Search could switch the attributes on and off\n",
    "class CombinedAdderAndTransformer(BaseEstimator, TransformerMixin):\n",
    "    def __init__(self, add_day_of_week=True, add_time_of_day=True, add_uni_hols=True, add_weekend=True, add_academic_yr=True,\n",
    "                 buildings=None, rosters=None):\n",
    "        self.add_day_of_week = add_day_of_week\n",
    "        self.add_time_of_day = add_time_of_day\n",
    "        self.add_uni_hols = add_uni_hols\n",
    "        self.add_weekend = add_weekend\n",
    "        self.add_academic_yr = add_academic_yr\n",
    "        self.buildings = buildings\n",
    "        self.rosters = rosters\n",
    "\n",
    "    def fit(self, X, y=None):\n",
    "        return self\n",
    "\n",
    "    def transform(self, X):\n",
    "        X_temp = X.copy()\n",
    "        num_attribs = [\"time_bucket\"]\n",
    "        cat_attribs = [\"building\"]\n",
    "        all_categories = [self.buildings]\n",
    "        if self.add_day_of_week:\n",
    "            X_temp[\"day_of_week\"] = X[\"time_bucket\"].apply(lambda d: datetime.datetime.fromtimestamp(d/1000).weekday())\n",
    "            num_attribs.extend([\"day_of_week\"])\n",
    "        if self.add_time_of_day:\n",
    "            X_temp[\"time_of_day\"] = X[\"time_bucket\"].apply(lambda d: int(d%86400000))\n",
    "            num_attribs.extend([\"time_of_day\"])\n",
    "        if self.add_uni_hols:\n",
    "            X_temp[\"hols\"] = X[\"time_bucket\"].apply(lambda d: 1. if datetime.datetime.fromtimestamp(d/1000).date() in uni_hols else 0.)\n",
    "            num_attribs.extend([\"hols\"])\n",
    "        if self.add_weekend:\n",
    "            X_temp[\"weekend\"] = X[\"time_bucket\"].apply(lambda d: 1. if datetime.datetime.fromtimestamp(d/1000).weekday() > 4 else 0.)\n",
    "            num_attribs.extend([\"weekend\"])\n",
    "        if self.add_academic_yr:\n",
    "            X_temp[\"academic_yr\"] = X[\"time_bucket\"].apply(lambda d: roster(datetime.datetime.fromtimestamp(d/1000).date()))\n",
    "            all_categories.append(rosters)\n",
    "            cat_attribs.extend([\"academic_yr\"])\n",
    "\n",
    "\n",
    "        # combine the pipelines based on column type\n",
    "        coltrans = ColumnTransformer([(\"num\", StandardScaler(), num_attribs),\n",
    "                                      (\"cat\", OneHotEncoder(categories=all_categories), cat_attribs)\n",
    "                                     ])\n",
    "        X_trans = coltrans.fit_transform(X_temp)\n",
    "        return X_trans"
   ]
  },
  {
   "cell_type": "markdown",
   "id": "medium-visiting",
   "metadata": {},
   "source": [
    "# Build the Adder, Transformer, Linear Regression pipeline"
   ]
  },
  {
   "cell_type": "code",
   "execution_count": 12,
   "id": "italian-beverage",
   "metadata": {},
   "outputs": [],
   "source": [
    "full_pipeline = Pipeline([\n",
    "    ('add_attributes', CombinedAdderAndTransformer(add_day_of_week, add_time_of_day, add_uni_hols, add_weekend,\n",
    "                                                   add_academic_yr, buildings=buildings, rosters=rosters)),\n",
    "    ('lin_reg',  LinearRegression()),\n",
    "])\n",
    "\n",
    "# print(full_pipeline.named_steps['add_attributes'])"
   ]
  },
  {
   "cell_type": "code",
   "execution_count": 13,
   "id": "minute-campaign",
   "metadata": {},
   "outputs": [
    {
     "name": "stdout",
     "output_type": "stream",
     "text": [
      "Pipeline(steps=[('add_attributes',\n",
      "                 CombinedAdderAndTransformer(add_academic_yr=False,\n",
      "                                             add_day_of_week=False,\n",
      "                                             add_time_of_day=False,\n",
      "                                             add_uni_hols=False,\n",
      "                                             add_weekend=False,\n",
      "                                             buildings=['20-Aula', '23-CITG',\n",
      "                                                        '25-GreenVillage',\n",
      "                                                        '19-Studuitzendbureau',\n",
      "                                                        '32a- Learninglab',\n",
      "                                                        '37-Sportcentrum',\n",
      "                                                        '30-O S',\n",
      "                                                        '38-Cultureel Centrum',\n",
      "                                                        '63-Simona', '21-BTUD',\n",
      "                                                        'Katalyse Labaratorium',\n",
      "                                                        '3...G',\n",
      "                                                        '50-TNW-RID',\n",
      "                                                        '46-P E lab', '62-LR',\n",
      "                                                        '36-EWI-HB',\n",
      "                                                        '22-TNW-TN', '45-LSL',\n",
      "                                                        '28- WNI',\n",
      "                                                        '36-EWI LB_K t/m 3 & '\n",
      "                                                        'HB_K  t/m 2e ',\n",
      "                                                        '31-TBM', '64-HSL',\n",
      "                                                        '66-Fellowship',\n",
      "                                                        '03-Science Center',\n",
      "                                                        '60-LMS',\n",
      "                                                        'VLL-LAB(TNO)',\n",
      "                                                        '33-Pulse',\n",
      "                                                        '61-Vliegtuighal',\n",
      "                                                        '35-Drebbelweg',\n",
      "                                                        '36-ESP-Lab', ...],\n",
      "                                             rosters=['Exam_BSc', 'Study_mixed',\n",
      "                                                      'Exam_mixed', 'Exam',\n",
      "                                                      'Free', 'Learn'])),\n",
      "                ('lin_reg', LinearRegression())])\n"
     ]
    }
   ],
   "source": [
    "# check it works\n",
    "crowd_fitted = full_pipeline.fit(crowd, crowd_labels)\n",
    "print(crowd_fitted)"
   ]
  },
  {
   "cell_type": "markdown",
   "id": "uniform-tower",
   "metadata": {},
   "source": [
    "# Do a Grid Search"
   ]
  },
  {
   "cell_type": "code",
   "execution_count": 14,
   "id": "lasting-tonight",
   "metadata": {},
   "outputs": [
    {
     "data": {
      "text/plain": [
       "GridSearchCV(estimator=Pipeline(steps=[('add_attributes',\n",
       "                                        CombinedAdderAndTransformer(add_academic_yr=False,\n",
       "                                                                    add_day_of_week=False,\n",
       "                                                                    add_time_of_day=False,\n",
       "                                                                    add_uni_hols=False,\n",
       "                                                                    add_weekend=False,\n",
       "                                                                    buildings=['20-Aula',\n",
       "                                                                               '23-CITG',\n",
       "                                                                               '25-GreenVillage',\n",
       "                                                                               '19-Studuitzendbureau',\n",
       "                                                                               '32a- '\n",
       "                                                                               'Learninglab',\n",
       "                                                                               '37-Sportcentrum',\n",
       "                                                                               '30-O '\n",
       "                                                                               'S',\n",
       "                                                                               '38-Cultureel '\n",
       "                                                                               'Centrum',\n",
       "                                                                               '63-Simona',\n",
       "                                                                               '21-BT...\n",
       "                                                        '36-EWI-HB',\n",
       "                                                        '22-TNW-TN', '45-LSL',\n",
       "                                                        '28- WNI',\n",
       "                                                        '36-EWI LB_K t/m 3 & '\n",
       "                                                        'HB_K  t/m 2e ',\n",
       "                                                        '31-TBM', '64-HSL',\n",
       "                                                        '66-Fellowship',\n",
       "                                                        '03-Science Center',\n",
       "                                                        '60-LMS',\n",
       "                                                        'VLL-LAB(TNO)',\n",
       "                                                        '33-Pulse',\n",
       "                                                        '61-Vliegtuighal',\n",
       "                                                        '35-Drebbelweg',\n",
       "                                                        '36-ESP-Lab', ...]],\n",
       "                         'add_attributes__rosters': [['Exam_BSc', 'Study_mixed',\n",
       "                                                      'Exam_mixed', 'Exam',\n",
       "                                                      'Free', 'Learn']]},\n",
       "             return_train_score=True, scoring='neg_mean_squared_error')"
      ]
     },
     "execution_count": 14,
     "metadata": {},
     "output_type": "execute_result"
    }
   ],
   "source": [
    "param_grid = {'add_attributes__add_day_of_week': [True, False], 'add_attributes__add_time_of_day': [True, False],\n",
    "              'add_attributes__add_uni_hols': [True, False],\n",
    "              'add_attributes__add_weekend': [True, False], 'add_attributes__add_academic_yr': [True, False],\n",
    "              'add_attributes__buildings': [buildings], 'add_attributes__rosters': [rosters]}\n",
    "\n",
    "\n",
    "grid_search = GridSearchCV(full_pipeline, param_grid, scoring='neg_mean_squared_error', return_train_score=True)\n",
    "\n",
    "grid_search.fit(crowd, crowd_labels)"
   ]
  },
  {
   "cell_type": "code",
   "execution_count": 15,
   "id": "inside-halloween",
   "metadata": {},
   "outputs": [
    {
     "data": {
      "text/plain": [
       "{'add_attributes__add_academic_yr': True,\n",
       " 'add_attributes__add_day_of_week': True,\n",
       " 'add_attributes__add_time_of_day': True,\n",
       " 'add_attributes__add_uni_hols': True,\n",
       " 'add_attributes__add_weekend': True,\n",
       " 'add_attributes__buildings': ['20-Aula',\n",
       "  '23-CITG',\n",
       "  '25-GreenVillage',\n",
       "  '19-Studuitzendbureau',\n",
       "  '32a- Learninglab',\n",
       "  '37-Sportcentrum',\n",
       "  '30-O S',\n",
       "  '38-Cultureel Centrum',\n",
       "  '63-Simona',\n",
       "  '21-BTUD',\n",
       "  'Katalyse Labaratorium',\n",
       "  '30-IKC_ISD-FMVG',\n",
       "  '50-TNW-RID',\n",
       "  '46-P E lab',\n",
       "  '62-LR',\n",
       "  '36-EWI-HB',\n",
       "  '22-TNW-TN',\n",
       "  '45-LSL',\n",
       "  '28- WNI',\n",
       "  '36-EWI LB_K t/m 3 & HB_K  t/m 2e ',\n",
       "  '31-TBM',\n",
       "  '64-HSL',\n",
       "  '66-Fellowship',\n",
       "  '03-Science Center',\n",
       "  '60-LMS',\n",
       "  'VLL-LAB(TNO)',\n",
       "  '33-Pulse',\n",
       "  '61-Vliegtuighal',\n",
       "  '35-Drebbelweg',\n",
       "  '36-ESP-Lab',\n",
       "  '43-EGM',\n",
       "  '26-Bouwcampus',\n",
       "  'Unknown',\n",
       "  '58-TNW-Zuid',\n",
       "  '08-BK-City',\n",
       "  '32-OCP-IO',\n",
       "  '34-3ME',\n",
       "  '05-TNW-BIO'],\n",
       " 'add_attributes__rosters': ['Exam_BSc',\n",
       "  'Study_mixed',\n",
       "  'Exam_mixed',\n",
       "  'Exam',\n",
       "  'Free',\n",
       "  'Learn']}"
      ]
     },
     "execution_count": 15,
     "metadata": {},
     "output_type": "execute_result"
    }
   ],
   "source": [
    "grid_search.best_params_"
   ]
  },
  {
   "cell_type": "code",
   "execution_count": 16,
   "id": "adaptive-collection",
   "metadata": {},
   "outputs": [
    {
     "data": {
      "text/plain": [
       "Pipeline(steps=[('add_attributes',\n",
       "                 CombinedAdderAndTransformer(buildings=['20-Aula', '23-CITG',\n",
       "                                                        '25-GreenVillage',\n",
       "                                                        '19-Studuitzendbureau',\n",
       "                                                        '32a- Learninglab',\n",
       "                                                        '37-Sportcentrum',\n",
       "                                                        '30-O S',\n",
       "                                                        '38-Cultureel Centrum',\n",
       "                                                        '63-Simona', '21-BTUD',\n",
       "                                                        'Katalyse Labaratorium',\n",
       "                                                        '30-IKC_ISD-FMVG',\n",
       "                                                        '50-TNW-RID',\n",
       "                                                        '46-P E lab', '62-LR',\n",
       "                                                        '36-EWI-HB',\n",
       "                                                        '22-TNW-TN', '45-LSL',\n",
       "                                                        '28- WNI',\n",
       "                                                        '36-EWI LB_K t/m 3 & '\n",
       "                                                        'HB_K  t/m 2e ',\n",
       "                                                        '31-TBM', '64-HSL',\n",
       "                                                        '66-Fellowship',\n",
       "                                                        '03-Science Center',\n",
       "                                                        '60-LMS',\n",
       "                                                        'VLL-LAB(TNO)',\n",
       "                                                        '33-Pulse',\n",
       "                                                        '61-Vliegtuighal',\n",
       "                                                        '35-Drebbelweg',\n",
       "                                                        '36-ESP-Lab', ...],\n",
       "                                             rosters=['Exam_BSc', 'Study_mixed',\n",
       "                                                      'Exam_mixed', 'Exam',\n",
       "                                                      'Free', 'Learn'])),\n",
       "                ('lin_reg', LinearRegression())])"
      ]
     },
     "execution_count": 16,
     "metadata": {},
     "output_type": "execute_result"
    }
   ],
   "source": [
    "grid_search.best_estimator_"
   ]
  },
  {
   "cell_type": "code",
   "execution_count": 17,
   "id": "clear-region",
   "metadata": {},
   "outputs": [
    {
     "name": "stdout",
     "output_type": "stream",
     "text": [
      "97.44038970891434 True True True True True\n",
      "97.45137132742174 True True True True False\n",
      "97.45121568792788 True True True False True\n",
      "97.45142788112607 True True True False False\n",
      "97.7023218653896 True True False True True\n",
      "97.70954847408748 True True False True False\n",
      "97.70933377488828 True True False False True\n",
      "97.71094864864526 True True False False False\n",
      "98.4064762390381 True False True True True\n",
      "98.4056106250453 True False True True False\n",
      "98.40594585200225 True False True False True\n",
      "98.43231452079503 True False True False False\n",
      "98.40588723741662 True False False True True\n",
      "98.40502164180518 True False False True False\n",
      "98.40535574543439 True False False False True\n",
      "98.43230282079912 True False False False False\n",
      "97.44220509309443 False True True True True\n",
      "98.2178898392352 False True True True False\n",
      "98.23911901905242 False True True False True\n",
      "98.23858887535914 False True True False False\n",
      "97.70220517073992 False True False True True\n",
      "98.22136494288564 False True False True False\n",
      "98.24020922450845 False True False False True\n",
      "98.23969719547591 False True False False False\n",
      "98.40695870599355 False False True True True\n",
      "98.95940917733525 False False True True False\n",
      "98.51868801632898 False False True False True\n",
      "98.98179269660679 False False True False False\n",
      "98.40636990943328 False False False True True\n",
      "98.96119046377856 False False False True False\n",
      "98.52191465144335 False False False False True\n",
      "98.98188025357075 False False False False False\n"
     ]
    }
   ],
   "source": [
    "# take a look at the different permutations\n",
    "cvres = grid_search.cv_results_\n",
    "for mean_score, params in zip(cvres[\"mean_test_score\"], cvres[\"params\"]):\n",
    "    print(np.sqrt(-mean_score), params['add_attributes__add_academic_yr'], params['add_attributes__add_day_of_week'],\n",
    "          params['add_attributes__add_time_of_day'], params['add_attributes__add_uni_hols'],\n",
    "          params['add_attributes__add_weekend'])"
   ]
  },
  {
   "cell_type": "markdown",
   "id": "practical-estonia",
   "metadata": {},
   "source": [
    "Save what we have so far:\n",
    "```\n",
    "from joblib import dump\n",
    "\n",
    "dump(lin_reg, \"lin_reg.joblib\")\n",
    "dump(tree_reg, \"tree_reg.joblib\")\n",
    "dump(forest_reg, \"forest_reg.joblib\")\n",
    "```"
   ]
  },
  {
   "cell_type": "markdown",
   "id": "upper-electron",
   "metadata": {},
   "source": [
    "Still want to do:\n",
    "\n",
    "* possibly add time from lunch as an attribute\n",
    "* see what happens with 4 weeks of data\n",
    "* write blog\n",
    "* illustrate blog with nice graphs"
   ]
  },
  {
   "cell_type": "markdown",
   "id": "personal-float",
   "metadata": {},
   "source": [
    "See also: https://scikit-learn.org/stable/tutorial/statistical_inference/putting_together.html"
   ]
  }
 ],
 "metadata": {
  "kernelspec": {
   "display_name": "mlbook",
   "language": "python",
   "name": "mlbook"
  },
  "language_info": {
   "codemirror_mode": {
    "name": "ipython",
    "version": 3
   },
   "file_extension": ".py",
   "mimetype": "text/x-python",
   "name": "python",
   "nbconvert_exporter": "python",
   "pygments_lexer": "ipython3",
   "version": "3.8.3"
  }
 },
 "nbformat": 4,
 "nbformat_minor": 5
}
