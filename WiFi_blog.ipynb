{
 "cells": [
  {
   "cell_type": "markdown",
   "id": "blank-burst",
   "metadata": {},
   "source": [
    "# Set things up"
   ]
  },
  {
   "cell_type": "code",
   "execution_count": 1,
   "id": "altered-scene",
   "metadata": {},
   "outputs": [],
   "source": [
    "import os\n",
    "import pandas as pd\n",
    "import datetime\n",
    "from sklearn.model_selection import StratifiedShuffleSplit\n",
    "\n",
    "DATA_SOURCE = \"C:/Users/sbranchett/Data/WiFi_data\"\n",
    "ACCESS_POINT = os.path.join(DATA_SOURCE, \"WiFiAccessPoint.csv\")\n",
    "\n",
    "uni_hols = (datetime.date(year=2021, month=5, day=5),\n",
    "            datetime.date(year=2021, month=5, day=13),\n",
    "            datetime.date(year=2021, month=5, day=14),\n",
    "            datetime.date(year=2021, month=5, day=24)\n",
    "           )  # National Holidays and Collective Free days\n",
    "\n",
    "def roster(date):\n",
    "    # categorise the days of the academic year at TU Delft between 1 May 2021 and 29 August 2021\n",
    "    \n",
    "    if (date > datetime.date(year=2021, month=5, day=16)) and \\\n",
    "       (date < datetime.date(year=2021, month=5, day=22)):\n",
    "        categorie = \"Exam_BSc\"\n",
    "    elif (date > datetime.date(year=2021, month=6, day=15)) and \\\n",
    "         (date < datetime.date(year=2021, month=6, day=19)):\n",
    "        categorie = \"Study_mixed\"\n",
    "    elif (date > datetime.date(year=2021, month=6, day=22)) and \\\n",
    "         (date < datetime.date(year=2021, month=6, day=26)):\n",
    "        categorie = \"Exam_mixed\"\n",
    "    elif (date > datetime.date(year=2021, month=6, day=29)) and \\\n",
    "         (date < datetime.date(year=2021, month=7, day=3)):\n",
    "        categorie = \"Exam\"\n",
    "    elif (date > datetime.date(year=2021, month=8, day=8)) and \\\n",
    "         (date < datetime.date(year=2021, month=8, day=14)):\n",
    "        categorie = \"Exam\"\n",
    "    elif (date > datetime.date(year=2021, month=7, day=4)):\n",
    "        categorie = \"Free\"\n",
    "    else:\n",
    "        categorie = \"Learn\"\n",
    "    return categorie"
   ]
  },
  {
   "cell_type": "markdown",
   "id": "excess-luther",
   "metadata": {},
   "source": [
    "# Get the interesting fields from the WiFi data"
   ]
  },
  {
   "cell_type": "code",
   "execution_count": 2,
   "id": "apart-appliance",
   "metadata": {},
   "outputs": [],
   "source": [
    "def load_wifi_data(interesting_columns, path=ACCESS_POINT):\n",
    "    raw_data = pd.read_csv(path, delimiter=\",\")\n",
    "    raw_data = raw_data.rename(columns=lambda x: x.strip())\n",
    "    return raw_data[interesting_columns]\n",
    "\n",
    "interesting_columns = [\"timestamp\", \"clientCount\", \"locationHierarchy\"]\n",
    "all_data = load_wifi_data(interesting_columns)"
   ]
  },
  {
   "cell_type": "markdown",
   "id": "foster-spine",
   "metadata": {},
   "source": [
    "# Extract Building"
   ]
  },
  {
   "cell_type": "code",
   "execution_count": 3,
   "id": "presidential-battery",
   "metadata": {},
   "outputs": [],
   "source": [
    "all_data[\"building\"] = all_data[\"locationHierarchy\"].str.split(\" > \",expand=True)[1]"
   ]
  },
  {
   "cell_type": "markdown",
   "id": "sexual-guarantee",
   "metadata": {},
   "source": [
    "# Create five minute time buckets"
   ]
  },
  {
   "cell_type": "code",
   "execution_count": 4,
   "id": "induced-diving",
   "metadata": {},
   "outputs": [],
   "source": [
    "# convert timestamp, given as Epoch in milliseconds, to datetime\n",
    "all_data[\"datetime\"] = all_data[\"timestamp\"].apply(lambda d: datetime.datetime.fromtimestamp(int(d/1000)))\n",
    "\n",
    "# separate out the date and the time in buckets of 5 minutes\n",
    "all_data[\"date\"] = all_data[\"datetime\"].apply(lambda d: datetime.datetime.date(d))\n",
    "all_data[\"time_5mins\"] = all_data[\"datetime\"].apply(lambda d: datetime.time(d.hour, 5*int(d.minute/5), 0))\n",
    "\n",
    "# create datetime buckets of 5 minutes\n",
    "all_data[\"bucket_5mins\"] = all_data.apply(lambda row: datetime.datetime.combine(row[\"date\"], row[\"time_5mins\"]), axis=1)"
   ]
  },
  {
   "cell_type": "markdown",
   "id": "considered-paint",
   "metadata": {},
   "source": [
    "# Bucketise clientCounts in five minute intervals, total per building"
   ]
  },
  {
   "cell_type": "code",
   "execution_count": 5,
   "id": "breeding-grill",
   "metadata": {},
   "outputs": [],
   "source": [
    "# Add up clientCounts for building / hour_bucket pair\n",
    "all_data[\"time_building\"] = all_data.apply(lambda row: str(row[\"bucket_5mins\"]) + \" _ \" + str(row[\"building\"]), axis=1)\n",
    "bucket_data = all_data.groupby(\"time_building\").sum().drop(columns=[\"timestamp\"])\n",
    "\n",
    "# Separate fields again\n",
    "bucket_data['helper'] = bucket_data.index\n",
    "bucket_data[\"bucket_datetime\"] = bucket_data.apply(lambda row: datetime.datetime.fromisoformat(row[\"helper\"][:19]), axis=1)\n",
    "bucket_data[\"bucket_date\"] = bucket_data.apply(lambda row: datetime.datetime.date(row[\"bucket_datetime\"]), axis=1)\n",
    "bucket_data[\"bucket_time\"] = bucket_data.apply(lambda row: datetime.datetime.time(row[\"bucket_datetime\"]), axis=1)\n",
    "bucket_data[\"building\"] = bucket_data.apply(lambda row: row[\"helper\"][22:], axis=1)\n",
    "bucket_data = bucket_data.drop(columns=[\"helper\"])"
   ]
  },
  {
   "cell_type": "markdown",
   "id": "worse-reward",
   "metadata": {},
   "source": [
    "# Create Work days and Student days"
   ]
  },
  {
   "cell_type": "code",
   "execution_count": 6,
   "id": "measured-north",
   "metadata": {},
   "outputs": [
    {
     "name": "stdout",
     "output_type": "stream",
     "text": [
      "                                             clientCount     bucket_datetime  \\\n",
      "time_building                                                                  \n",
      "2021-05-14 13:30:00 _ 03-Science Center               34 2021-05-14 13:30:00   \n",
      "2021-05-14 13:30:00 _ 05-TNW-BIO                       1 2021-05-14 13:30:00   \n",
      "2021-05-14 13:30:00 _ 08-BK-City                       2 2021-05-14 13:30:00   \n",
      "2021-05-14 13:30:00 _ 19-Studuitzendbureau            13 2021-05-14 13:30:00   \n",
      "2021-05-14 13:30:00 _ 20-Aula                         32 2021-05-14 13:30:00   \n",
      "...                                                  ...                 ...   \n",
      "2021-05-21 16:50:00 _ 64-HSL                          10 2021-05-21 16:50:00   \n",
      "2021-05-21 16:50:00 _ 66-Fellowship                  126 2021-05-21 16:50:00   \n",
      "2021-05-21 16:50:00 _ Katalyse Labaratorium            8 2021-05-21 16:50:00   \n",
      "2021-05-21 16:50:00 _ None                            32 2021-05-21 16:50:00   \n",
      "2021-05-21 16:50:00 _ VLL-LAB(TNO)                    11 2021-05-21 16:50:00   \n",
      "\n",
      "                                            bucket_date bucket_time  \\\n",
      "time_building                                                         \n",
      "2021-05-14 13:30:00 _ 03-Science Center      2021-05-14    13:30:00   \n",
      "2021-05-14 13:30:00 _ 05-TNW-BIO             2021-05-14    13:30:00   \n",
      "2021-05-14 13:30:00 _ 08-BK-City             2021-05-14    13:30:00   \n",
      "2021-05-14 13:30:00 _ 19-Studuitzendbureau   2021-05-14    13:30:00   \n",
      "2021-05-14 13:30:00 _ 20-Aula                2021-05-14    13:30:00   \n",
      "...                                                 ...         ...   \n",
      "2021-05-21 16:50:00 _ 64-HSL                 2021-05-21    16:50:00   \n",
      "2021-05-21 16:50:00 _ 66-Fellowship          2021-05-21    16:50:00   \n",
      "2021-05-21 16:50:00 _ Katalyse Labaratorium  2021-05-21    16:50:00   \n",
      "2021-05-21 16:50:00 _ None                   2021-05-21    16:50:00   \n",
      "2021-05-21 16:50:00 _ VLL-LAB(TNO)           2021-05-21    16:50:00   \n",
      "\n",
      "                                                          building  weekday  \\\n",
      "time_building                                                                 \n",
      "2021-05-14 13:30:00 _ 03-Science Center          03-Science Center     True   \n",
      "2021-05-14 13:30:00 _ 05-TNW-BIO                        05-TNW-BIO     True   \n",
      "2021-05-14 13:30:00 _ 08-BK-City                        08-BK-City     True   \n",
      "2021-05-14 13:30:00 _ 19-Studuitzendbureau    19-Studuitzendbureau     True   \n",
      "2021-05-14 13:30:00 _ 20-Aula                              20-Aula     True   \n",
      "...                                                            ...      ...   \n",
      "2021-05-21 16:50:00 _ 64-HSL                                64-HSL     True   \n",
      "2021-05-21 16:50:00 _ 66-Fellowship                  66-Fellowship     True   \n",
      "2021-05-21 16:50:00 _ Katalyse Labaratorium  Katalyse Labaratorium     True   \n",
      "2021-05-21 16:50:00 _ None                                    None     True   \n",
      "2021-05-21 16:50:00 _ VLL-LAB(TNO)                    VLL-LAB(TNO)     True   \n",
      "\n",
      "                                             uni_hols academic_yr  \n",
      "time_building                                                      \n",
      "2021-05-14 13:30:00 _ 03-Science Center         False       Learn  \n",
      "2021-05-14 13:30:00 _ 05-TNW-BIO                False       Learn  \n",
      "2021-05-14 13:30:00 _ 08-BK-City                False       Learn  \n",
      "2021-05-14 13:30:00 _ 19-Studuitzendbureau      False       Learn  \n",
      "2021-05-14 13:30:00 _ 20-Aula                   False       Learn  \n",
      "...                                               ...         ...  \n",
      "2021-05-21 16:50:00 _ 64-HSL                    False    Exam_BSc  \n",
      "2021-05-21 16:50:00 _ 66-Fellowship             False    Exam_BSc  \n",
      "2021-05-21 16:50:00 _ Katalyse Labaratorium     False    Exam_BSc  \n",
      "2021-05-21 16:50:00 _ None                      False    Exam_BSc  \n",
      "2021-05-21 16:50:00 _ VLL-LAB(TNO)              False    Exam_BSc  \n",
      "\n",
      "[78166 rows x 8 columns]\n"
     ]
    }
   ],
   "source": [
    "bucket_data[\"weekday\"] = bucket_data.apply(lambda row: row[\"bucket_date\"].weekday() < 5, axis=1)\n",
    "bucket_data[\"uni_hols\"] = bucket_data.apply(lambda row: row[\"bucket_date\"].weekday() in uni_hols, axis=1)\n",
    "bucket_data[\"academic_yr\"] = bucket_data.apply(lambda row: roster(row[\"bucket_date\"]), axis=1)\n",
    "print(bucket_data)"
   ]
  },
  {
   "cell_type": "markdown",
   "id": "technical-running",
   "metadata": {},
   "source": [
    "# Separate Test Set stratified over buildings"
   ]
  },
  {
   "cell_type": "code",
   "execution_count": 7,
   "id": "chinese-external",
   "metadata": {},
   "outputs": [],
   "source": [
    "# get rid of rows with missing data\n",
    "bucket_data = bucket_data.dropna()\n",
    "\n",
    "# split has to have at least 2 rows with the same value\n",
    "buildings = bucket_data[\"building\"].value_counts()\n",
    "to_drop = []\n",
    "for index in buildings.index:\n",
    "    if buildings[index] < 2:\n",
    "        to_drop.append(index)\n",
    "bucket_data = bucket_data[~bucket_data[\"building\"].isin(to_drop)]\n",
    "\n",
    "# indices need to be consecutive for split\n",
    "bucket_data.index = range(len(bucket_data))"
   ]
  },
  {
   "cell_type": "code",
   "execution_count": 8,
   "id": "comfortable-movement",
   "metadata": {},
   "outputs": [
    {
     "name": "stdout",
     "output_type": "stream",
     "text": [
      "[]\n"
     ]
    }
   ],
   "source": [
    "print(to_drop)"
   ]
  },
  {
   "cell_type": "code",
   "execution_count": 9,
   "id": "permanent-separate",
   "metadata": {},
   "outputs": [
    {
     "name": "stdout",
     "output_type": "stream",
     "text": [
      "31-TBM                               2057\n",
      "46-P E lab                           2057\n",
      "43-EGM                               2057\n",
      "38-Cultureel Centrum                 2057\n",
      "28- WNI                              2057\n",
      "05-TNW-BIO                           2057\n",
      "22-TNW-TN                            2057\n",
      "32-OCP-IO                            2057\n",
      "36-ESP-Lab                           2057\n",
      "26-Bouwcampus                        2057\n",
      "08-BK-City                           2057\n",
      "36-EWI LB_K t/m 3 & HB_K  t/m 2e     2057\n",
      "62-LR                                2057\n",
      "30-IKC_ISD-FMVG                      2057\n",
      "VLL-LAB(TNO)                         2057\n",
      "25-GreenVillage                      2057\n",
      "21-BTUD                              2057\n",
      "58-TNW-Zuid                          2057\n",
      "45-LSL                               2057\n",
      "66-Fellowship                        2057\n",
      "50-TNW-RID                           2057\n",
      "30-O S                               2057\n",
      "36-EWI-HB                            2057\n",
      "34-3ME                               2057\n",
      "37-Sportcentrum                      2057\n",
      "32a- Learninglab                     2057\n",
      "63-Simona                            2057\n",
      "20-Aula                              2057\n",
      "61-Vliegtuighal                      2057\n",
      "35-Drebbelweg                        2057\n",
      "None                                 2057\n",
      "60-LMS                               2057\n",
      "19-Studuitzendbureau                 2057\n",
      "64-HSL                               2057\n",
      "33-Pulse                             2057\n",
      "03-Science Center                    2057\n",
      "23-CITG                              2057\n",
      "Katalyse Labaratorium                2057\n",
      "Name: building, dtype: int64\n"
     ]
    }
   ],
   "source": [
    "# check all went well\n",
    "#print('to_drop',to_drop)\n",
    "print(bucket_data[\"building\"].value_counts())"
   ]
  },
  {
   "cell_type": "code",
   "execution_count": 10,
   "id": "loose-saver",
   "metadata": {},
   "outputs": [
    {
     "data": {
      "text/plain": [
       "(78166, 8)"
      ]
     },
     "execution_count": 10,
     "metadata": {},
     "output_type": "execute_result"
    }
   ],
   "source": [
    "bucket_data.shape"
   ]
  },
  {
   "cell_type": "code",
   "execution_count": 11,
   "id": "coordinate-coaching",
   "metadata": {},
   "outputs": [
    {
     "data": {
      "text/plain": [
       "<AxesSubplot:>"
      ]
     },
     "execution_count": 11,
     "metadata": {},
     "output_type": "execute_result"
    },
    {
     "data": {
      "image/png": "[encoded data removed]",
      "text/plain": [
       "<Figure size 432x288 with 1 Axes>"
      ]
     },
     "metadata": {
      "needs_background": "light"
     },
     "output_type": "display_data"
    }
   ],
   "source": [
    "bucket_data[\"building\"].hist()"
   ]
  },
  {
   "cell_type": "code",
   "execution_count": 12,
   "id": "certain-measurement",
   "metadata": {},
   "outputs": [
    {
     "name": "stdout",
     "output_type": "stream",
     "text": [
      "       clientCount     bucket_datetime bucket_date bucket_time  \\\n",
      "11688           15 2021-05-15 15:05:00  2021-05-15    15:05:00   \n",
      "61351            1 2021-05-20 04:00:00  2021-05-20    04:00:00   \n",
      "55780          101 2021-05-19 15:45:00  2021-05-19    15:45:00   \n",
      "26158           12 2021-05-16 22:50:00  2021-05-16    22:50:00   \n",
      "34879           16 2021-05-17 17:55:00  2021-05-17    17:55:00   \n",
      "...            ...                 ...         ...         ...   \n",
      "50892            4 2021-05-19 05:05:00  2021-05-19    05:05:00   \n",
      "33498          247 2021-05-17 14:55:00  2021-05-17    14:55:00   \n",
      "4160             2 2021-05-14 22:35:00  2021-05-14    22:35:00   \n",
      "56082            8 2021-05-19 16:25:00  2021-05-19    16:25:00   \n",
      "55786          670 2021-05-19 15:50:00  2021-05-19    15:50:00   \n",
      "\n",
      "                                building  weekday  uni_hols academic_yr  \n",
      "11688                    37-Sportcentrum    False     False       Learn  \n",
      "61351                         36-ESP-Lab     True     False    Exam_BSc  \n",
      "55780                      66-Fellowship     True     False    Exam_BSc  \n",
      "26158                          32-OCP-IO    False     False       Learn  \n",
      "34879                             64-HSL     True     False    Exam_BSc  \n",
      "...                                  ...      ...       ...         ...  \n",
      "50892                            28- WNI     True     False    Exam_BSc  \n",
      "33498  36-EWI LB_K t/m 3 & HB_K  t/m 2e      True     False    Exam_BSc  \n",
      "4160                       35-Drebbelweg     True     False       Learn  \n",
      "56082                          63-Simona     True     False    Exam_BSc  \n",
      "55786                         08-BK-City     True     False    Exam_BSc  \n",
      "\n",
      "[62532 rows x 8 columns]\n"
     ]
    }
   ],
   "source": [
    "split = StratifiedShuffleSplit(n_splits=1, test_size=0.2, random_state=42)\n",
    "\n",
    "for train_index, test_index in split.split(bucket_data, bucket_data[\"building\"]):\n",
    "    strat_train_set = bucket_data.loc[train_index]\n",
    "    strat_test_set = bucket_data.loc[test_index]\n",
    "\n",
    "print(strat_train_set)"
   ]
  },
  {
   "cell_type": "code",
   "execution_count": 13,
   "id": "dynamic-auditor",
   "metadata": {},
   "outputs": [
    {
     "data": {
      "image/png": "[encoded data removed]",
      "text/plain": [
       "<Figure size 720x360 with 2 Axes>"
      ]
     },
     "metadata": {
      "needs_background": "light"
     },
     "output_type": "display_data"
    }
   ],
   "source": [
    "%matplotlib inline\n",
    "import matplotlib.pyplot as plt\n",
    "bucket_data.hist(bins=50, figsize=(10,5))\n",
    "plt.show()"
   ]
  },
  {
   "cell_type": "code",
   "execution_count": 14,
   "id": "union-pilot",
   "metadata": {},
   "outputs": [],
   "source": [
    "bucket_data.to_csv(\"bucket_data.csv\")"
   ]
  },
  {
   "cell_type": "code",
   "execution_count": 15,
   "id": "continent-table",
   "metadata": {},
   "outputs": [],
   "source": [
    "strat_train_set.to_csv(\"strat_train_set.csv\")\n",
    "strat_test_set.to_csv(\"strat_test_set.csv\")"
   ]
  }
 ],
 "metadata": {
  "kernelspec": {
   "display_name": "mlbook",
   "language": "python",
   "name": "mlbook"
  },
  "language_info": {
   "codemirror_mode": {
    "name": "ipython",
    "version": 3
   },
   "file_extension": ".py",
   "mimetype": "text/x-python",
   "name": "python",
   "nbconvert_exporter": "python",
   "pygments_lexer": "ipython3",
   "version": "3.8.3"
  }
 },
 "nbformat": 4,
 "nbformat_minor": 5
}
