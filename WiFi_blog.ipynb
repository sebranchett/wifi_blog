{
 "cells": [
  {
   "cell_type": "markdown",
   "id": "blank-burst",
   "metadata": {},
   "source": [
    "# Set things up"
   ]
  },
  {
   "cell_type": "code",
   "execution_count": 1,
   "id": "altered-scene",
   "metadata": {},
   "outputs": [],
   "source": [
    "import os\n",
    "import pandas as pd\n",
    "import datetime\n",
    "from sklearn.model_selection import StratifiedShuffleSplit\n",
    "\n",
    "DATA_SOURCE = \"C:/Users/sbranchett/Data/WiFi_data\"\n",
    "ACCESS_POINT = os.path.join(DATA_SOURCE, \"test100.csv\")\n",
    "\n",
    "uni_hols = (datetime.date(year=2021, month=5, day=5),\n",
    "            datetime.date(year=2021, month=5, day=13),\n",
    "            datetime.date(year=2021, month=5, day=14),\n",
    "            datetime.date(year=2021, month=5, day=24)\n",
    "           )  # National Holidays and Collective Free days\n",
    "\n",
    "def rooster(date):\n",
    "    # categorise the days of the academic year at TU Delft between 1 May 2021 and 29 August 2021\n",
    "    \n",
    "    if (date > datetime.date(year=2021, month=5, day=16)) and \\\n",
    "       (date < datetime.date(year=2021, month=5, day=22)):\n",
    "        categorie = \"Exam_BSc\"\n",
    "    elif (date > datetime.date(year=2021, month=6, day=15)) and \\\n",
    "         (date < datetime.date(year=2021, month=6, day=19)):\n",
    "        categorie = \"Study_mixed\"\n",
    "    elif (date > datetime.date(year=2021, month=6, day=22)) and \\\n",
    "         (date < datetime.date(year=2021, month=6, day=26)):\n",
    "        categorie = \"Exam_mixed\"\n",
    "    elif (date > datetime.date(year=2021, month=6, day=29)) and \\\n",
    "         (date < datetime.date(year=2021, month=7, day=3)):\n",
    "        categorie = \"Exam\"\n",
    "    elif (date > datetime.date(year=2021, month=8, day=8)) and \\\n",
    "         (date < datetime.date(year=2021, month=8, day=14)):\n",
    "        categorie = \"Exam\"\n",
    "    elif (date > datetime.date(year=2021, month=7, day=4)):\n",
    "        categorie = \"Free\"\n",
    "    else:\n",
    "        categorie = \"Learn\"\n",
    "    return categorie"
   ]
  },
  {
   "cell_type": "markdown",
   "id": "excess-luther",
   "metadata": {},
   "source": [
    "# Get the interesting fields from the WiFi data"
   ]
  },
  {
   "cell_type": "code",
   "execution_count": 2,
   "id": "apart-appliance",
   "metadata": {},
   "outputs": [],
   "source": [
    "def load_wifi_data(interesting_columns, path=ACCESS_POINT):\n",
    "    raw_data = pd.read_csv(path, delimiter=\",\")\n",
    "    raw_data = raw_data.rename(columns=lambda x: x.strip())\n",
    "    return raw_data[interesting_columns]\n",
    "\n",
    "interesting_columns = [\"timestamp\", \"clientCount\", \"locationHierarchy\"]\n",
    "all_data = load_wifi_data(interesting_columns)"
   ]
  },
  {
   "cell_type": "markdown",
   "id": "foster-spine",
   "metadata": {},
   "source": [
    "# Extract Building"
   ]
  },
  {
   "cell_type": "code",
   "execution_count": 3,
   "id": "presidential-battery",
   "metadata": {},
   "outputs": [],
   "source": [
    "all_data[\"building\"] = all_data[\"locationHierarchy\"].str.split(\" > \",expand=True)[1]"
   ]
  },
  {
   "cell_type": "markdown",
   "id": "pleasant-spare",
   "metadata": {},
   "source": [
    "# Create hourly time buckets"
   ]
  },
  {
   "cell_type": "code",
   "execution_count": 4,
   "id": "anonymous-operations",
   "metadata": {},
   "outputs": [],
   "source": [
    "# convert timestamp, given as Epoch in milliseconds, to datetime\n",
    "all_data[\"datetime\"] = all_data[\"timestamp\"].apply(lambda d: datetime.datetime.fromtimestamp(int(d/1000)))\n",
    "\n",
    "# separate out the date and the hour\n",
    "all_data[\"date\"] = all_data[\"datetime\"].apply(lambda d: datetime.datetime.date(d))\n",
    "all_data[\"hour\"] = all_data[\"datetime\"].apply(lambda d: datetime.time(d.hour, 0, 0))\n",
    "\n",
    "# create buckets of an hour\n",
    "all_data[\"hour_bucket\"] = all_data.apply(lambda row: datetime.datetime.combine(row[\"date\"], row[\"hour\"]), axis=1)"
   ]
  },
  {
   "cell_type": "markdown",
   "id": "worse-reward",
   "metadata": {},
   "source": [
    "# Create Work days and Student days"
   ]
  },
  {
   "cell_type": "code",
   "execution_count": 5,
   "id": "measured-north",
   "metadata": {},
   "outputs": [],
   "source": [
    "all_data[\"weekday\"] = all_data.apply(lambda row: row[\"date\"].weekday() < 5, axis=1)\n",
    "all_data[\"uni_hols\"] = all_data.apply(lambda row: row[\"date\"].weekday() in uni_hols, axis=1)\n",
    "all_data[\"academic_yr\"] = all_data.apply(lambda row: rooster(row[\"date\"]), axis=1)"
   ]
  },
  {
   "cell_type": "markdown",
   "id": "technical-running",
   "metadata": {},
   "source": [
    "# Separate Test Set stratified over buildings"
   ]
  },
  {
   "cell_type": "code",
   "execution_count": 6,
   "id": "certain-measurement",
   "metadata": {},
   "outputs": [
    {
     "name": "stdout",
     "output_type": "stream",
     "text": [
      "        timestamp  clientCount                          locationHierarchy  \\\n",
      "97  1620991804473            1     TUDelft > 26-Bouwcampus > Beganegrond    \n",
      "74  1620991804468            0         TUDelft > 20-Aula > 2e Verdieping    \n",
      "13  1620991804455            0            TUDelft > 31-TBM > Beganegrond    \n",
      "92  1620991804472            2   TUDelft > 26-Bouwcampus > 2e verdieping    \n",
      "36  1620991804460            0         TUDelft > 20-Aula > 2e Verdieping    \n",
      "..            ...          ...                                        ...   \n",
      "64  1620991804466            0         TUDelft > 20-Aula > 2e Verdieping    \n",
      "55  1620991804464            0         TUDelft > 20-Aula > 2e Verdieping    \n",
      "78  1620991804469            0         TUDelft > 20-Aula > 2e Verdieping    \n",
      "81  1620991804469            0         TUDelft > 20-Aula > 2e Verdieping    \n",
      "94  1620991804472            0   TUDelft > 26-Bouwcampus > 1e verdieping    \n",
      "\n",
      "         building            datetime        date      hour  \\\n",
      "97  26-Bouwcampus 2021-05-14 13:30:04  2021-05-14  13:00:00   \n",
      "74        20-Aula 2021-05-14 13:30:04  2021-05-14  13:00:00   \n",
      "13         31-TBM 2021-05-14 13:30:04  2021-05-14  13:00:00   \n",
      "92  26-Bouwcampus 2021-05-14 13:30:04  2021-05-14  13:00:00   \n",
      "36        20-Aula 2021-05-14 13:30:04  2021-05-14  13:00:00   \n",
      "..            ...                 ...         ...       ...   \n",
      "64        20-Aula 2021-05-14 13:30:04  2021-05-14  13:00:00   \n",
      "55        20-Aula 2021-05-14 13:30:04  2021-05-14  13:00:00   \n",
      "78        20-Aula 2021-05-14 13:30:04  2021-05-14  13:00:00   \n",
      "81        20-Aula 2021-05-14 13:30:04  2021-05-14  13:00:00   \n",
      "94  26-Bouwcampus 2021-05-14 13:30:04  2021-05-14  13:00:00   \n",
      "\n",
      "           hour_bucket  weekday  uni_hols academic_yr  \n",
      "97 2021-05-14 13:00:00     True     False       Learn  \n",
      "74 2021-05-14 13:00:00     True     False       Learn  \n",
      "13 2021-05-14 13:00:00     True     False       Learn  \n",
      "92 2021-05-14 13:00:00     True     False       Learn  \n",
      "36 2021-05-14 13:00:00     True     False       Learn  \n",
      "..                 ...      ...       ...         ...  \n",
      "64 2021-05-14 13:00:00     True     False       Learn  \n",
      "55 2021-05-14 13:00:00     True     False       Learn  \n",
      "78 2021-05-14 13:00:00     True     False       Learn  \n",
      "81 2021-05-14 13:00:00     True     False       Learn  \n",
      "94 2021-05-14 13:00:00     True     False       Learn  \n",
      "\n",
      "[79 rows x 11 columns]\n"
     ]
    }
   ],
   "source": [
    "split = StratifiedShuffleSplit(n_splits=1, test_size=0.2, random_state=42)\n",
    "\n",
    "for train_index, test_index in split.split(all_data, all_data[\"building\"]):\n",
    "    strat_train_set = all_data.loc[train_index]\n",
    "    strat_test_set = all_data.loc[test_index]\n",
    "\n",
    "print(strat_train_set)"
   ]
  },
  {
   "cell_type": "markdown",
   "id": "considered-paint",
   "metadata": {},
   "source": [
    "# Bucketise clientCounts, total per building and total on campus"
   ]
  }
 ],
 "metadata": {
  "kernelspec": {
   "display_name": "mlbook",
   "language": "python",
   "name": "mlbook"
  },
  "language_info": {
   "codemirror_mode": {
    "name": "ipython",
    "version": 3
   },
   "file_extension": ".py",
   "mimetype": "text/x-python",
   "name": "python",
   "nbconvert_exporter": "python",
   "pygments_lexer": "ipython3",
   "version": "3.8.3"
  }
 },
 "nbformat": 4,
 "nbformat_minor": 5
}
