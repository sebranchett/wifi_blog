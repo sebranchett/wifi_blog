{
 "cells": [
  {
   "cell_type": "markdown",
   "id": "blank-burst",
   "metadata": {},
   "source": [
    "# Set things up"
   ]
  },
  {
   "cell_type": "code",
   "execution_count": 1,
   "id": "altered-scene",
   "metadata": {},
   "outputs": [],
   "source": [
    "import os\n",
    "import pandas as pd\n",
    "import datetime\n",
    "from sklearn.model_selection import StratifiedShuffleSplit\n",
    "\n",
    "DATA_SOURCE = \"C:/Users/sbranchett/Data/WiFi_data\"\n",
    "ACCESS_POINT = os.path.join(DATA_SOURCE, \"test1000.csv\")\n",
    "\n",
    "uni_hols = (datetime.date(year=2021, month=5, day=5),\n",
    "            datetime.date(year=2021, month=5, day=13),\n",
    "            datetime.date(year=2021, month=5, day=14),\n",
    "            datetime.date(year=2021, month=5, day=24)\n",
    "           )  # National Holidays and Collective Free days\n",
    "\n",
    "def rooster(date):\n",
    "    # categorise the days of the academic year at TU Delft between 1 May 2021 and 29 August 2021\n",
    "    \n",
    "    if (date > datetime.date(year=2021, month=5, day=16)) and \\\n",
    "       (date < datetime.date(year=2021, month=5, day=22)):\n",
    "        categorie = \"Exam_BSc\"\n",
    "    elif (date > datetime.date(year=2021, month=6, day=15)) and \\\n",
    "         (date < datetime.date(year=2021, month=6, day=19)):\n",
    "        categorie = \"Study_mixed\"\n",
    "    elif (date > datetime.date(year=2021, month=6, day=22)) and \\\n",
    "         (date < datetime.date(year=2021, month=6, day=26)):\n",
    "        categorie = \"Exam_mixed\"\n",
    "    elif (date > datetime.date(year=2021, month=6, day=29)) and \\\n",
    "         (date < datetime.date(year=2021, month=7, day=3)):\n",
    "        categorie = \"Exam\"\n",
    "    elif (date > datetime.date(year=2021, month=8, day=8)) and \\\n",
    "         (date < datetime.date(year=2021, month=8, day=14)):\n",
    "        categorie = \"Exam\"\n",
    "    elif (date > datetime.date(year=2021, month=7, day=4)):\n",
    "        categorie = \"Free\"\n",
    "    else:\n",
    "        categorie = \"Learn\"\n",
    "    return categorie"
   ]
  },
  {
   "cell_type": "markdown",
   "id": "excess-luther",
   "metadata": {},
   "source": [
    "# Get the interesting fields from the WiFi data"
   ]
  },
  {
   "cell_type": "code",
   "execution_count": 2,
   "id": "apart-appliance",
   "metadata": {},
   "outputs": [],
   "source": [
    "def load_wifi_data(interesting_columns, path=ACCESS_POINT):\n",
    "    raw_data = pd.read_csv(path, delimiter=\",\")\n",
    "    raw_data = raw_data.rename(columns=lambda x: x.strip())\n",
    "    return raw_data[interesting_columns]\n",
    "\n",
    "interesting_columns = [\"timestamp\", \"clientCount\", \"locationHierarchy\"]\n",
    "all_data = load_wifi_data(interesting_columns)"
   ]
  },
  {
   "cell_type": "markdown",
   "id": "foster-spine",
   "metadata": {},
   "source": [
    "# Extract Building"
   ]
  },
  {
   "cell_type": "code",
   "execution_count": 3,
   "id": "presidential-battery",
   "metadata": {},
   "outputs": [],
   "source": [
    "all_data[\"building\"] = all_data[\"locationHierarchy\"].str.split(\" > \",expand=True)[1]"
   ]
  },
  {
   "cell_type": "markdown",
   "id": "sexual-guarantee",
   "metadata": {},
   "source": [
    "# Create five minute time buckets"
   ]
  },
  {
   "cell_type": "code",
   "execution_count": 4,
   "id": "induced-diving",
   "metadata": {},
   "outputs": [],
   "source": [
    "# convert timestamp, given as Epoch in milliseconds, to datetime\n",
    "all_data[\"datetime\"] = all_data[\"timestamp\"].apply(lambda d: datetime.datetime.fromtimestamp(int(d/1000)))\n",
    "\n",
    "# separate out the date and the hour\n",
    "all_data[\"date\"] = all_data[\"datetime\"].apply(lambda d: datetime.datetime.date(d))\n",
    "all_data[\"time_5mins\"] = all_data[\"datetime\"].apply(lambda d: datetime.time(d.hour, 5*int(d.minute/5), 0))\n",
    "\n",
    "# create buckets of 5 minutes\n",
    "all_data[\"bucket_5mins\"] = all_data.apply(lambda row: datetime.datetime.combine(row[\"date\"], row[\"time_5mins\"]), axis=1)"
   ]
  },
  {
   "cell_type": "markdown",
   "id": "considered-paint",
   "metadata": {},
   "source": [
    "# Bucketise clientCounts in five minute intervals, total per building and total on campus\n",
    "Add up clientCounts for building / hour_bucket pair"
   ]
  },
  {
   "cell_type": "code",
   "execution_count": 5,
   "id": "breeding-grill",
   "metadata": {},
   "outputs": [
    {
     "name": "stdout",
     "output_type": "stream",
     "text": [
      "                                                    clientCount\n",
      "time_building                                                  \n",
      "2021-05-14 13:30:00 _ 20-Aula                                15\n",
      "2021-05-14 13:30:00 _ 21-BTUD                                65\n",
      "2021-05-14 13:30:00 _ 26-Bouwcampus                          22\n",
      "2021-05-14 13:30:00 _ 30-IKC_ISD-FMVG                        46\n",
      "2021-05-14 13:30:00 _ 30-O S                                  1\n",
      "2021-05-14 13:30:00 _ 31-TBM                                  0\n",
      "2021-05-14 13:30:00 _ 32-OCP-IO                              10\n",
      "2021-05-14 13:30:00 _ 34-3ME                                 32\n",
      "2021-05-14 13:30:00 _ 35-Drebbelweg                           1\n",
      "2021-05-14 13:30:00 _ 36-EWI LB_K t/m 3 & HB_K ...            1\n",
      "2021-05-14 13:30:00 _ 36-EWI-HB                               0\n",
      "2021-05-14 13:30:00 _ 38-Cultureel Centrum                    3\n",
      "2021-05-14 13:30:00 _ 45-LSL                                  0\n",
      "2021-05-14 13:30:00 _ 58-TNW-Zuid                            85\n",
      "2021-05-14 13:30:00 _ 60-LMS                                  2\n",
      "2021-05-14 13:30:00 _ 61-Vliegtuighal                         2\n",
      "2021-05-14 13:30:00 _ 62-LR                                   2\n",
      "2021-05-14 13:30:00 _ 63-Simona                               0\n",
      "2021-05-14 13:30:00 _ 66-Fellowship                           0\n",
      "2021-05-14 13:30:00 _ None                                    1\n",
      "2021-05-14 13:30:00 _ VLL-LAB(TNO)                            0\n"
     ]
    }
   ],
   "source": [
    "all_data[\"time_building\"] = all_data.apply(lambda row: str(row[\"bucket_5mins\"]) + \" _ \" + str(row[\"building\"]), axis=1)\n",
    "\n",
    "bucket_data = all_data.groupby(\"time_building\").sum().drop(columns=[\"timestamp\"])\n",
    "\n",
    "print(bucket_data)"
   ]
  },
  {
   "cell_type": "markdown",
   "id": "worse-reward",
   "metadata": {},
   "source": [
    "# Create Work days and Student days"
   ]
  },
  {
   "cell_type": "code",
   "execution_count": 6,
   "id": "measured-north",
   "metadata": {},
   "outputs": [],
   "source": [
    "all_data[\"weekday\"] = all_data.apply(lambda row: row[\"date\"].weekday() < 5, axis=1)\n",
    "all_data[\"uni_hols\"] = all_data.apply(lambda row: row[\"date\"].weekday() in uni_hols, axis=1)\n",
    "all_data[\"academic_yr\"] = all_data.apply(lambda row: rooster(row[\"date\"]), axis=1)"
   ]
  },
  {
   "cell_type": "markdown",
   "id": "technical-running",
   "metadata": {},
   "source": [
    "# Separate Test Set stratified over buildings"
   ]
  },
  {
   "cell_type": "code",
   "execution_count": 7,
   "id": "respiratory-gross",
   "metadata": {},
   "outputs": [],
   "source": [
    "# get rid of rows with missing data\n",
    "all_data = all_data.dropna()\n",
    "\n",
    "# split has to have at least 2 rows with the same value\n",
    "buildings = all_data[\"building\"].value_counts()\n",
    "to_drop = []\n",
    "for index in buildings.index:\n",
    "    if buildings[index] < 2:\n",
    "        to_drop.append(index)\n",
    "all_data = all_data[~all_data[\"building\"].isin(to_drop)]\n",
    "\n",
    "# indices need to be consecutive for split\n",
    "all_data.index = range(len(all_data))"
   ]
  },
  {
   "cell_type": "code",
   "execution_count": 8,
   "id": "permanent-separate",
   "metadata": {},
   "outputs": [
    {
     "name": "stdout",
     "output_type": "stream",
     "text": [
      "to_drop ['45-LSL', 'VLL-LAB(TNO)']\n",
      "34-3ME                               216\n",
      "58-TNW-Zuid                          153\n",
      "32-OCP-IO                            134\n",
      "21-BTUD                               84\n",
      "62-LR                                 70\n",
      "20-Aula                               66\n",
      "26-Bouwcampus                         61\n",
      "35-Drebbelweg                         37\n",
      "30-IKC_ISD-FMVG                       30\n",
      "66-Fellowship                         29\n",
      "38-Cultureel Centrum                  22\n",
      "31-TBM                                22\n",
      "61-Vliegtuighal                       17\n",
      "30-O S                                17\n",
      "36-EWI-HB                             16\n",
      "36-EWI LB_K t/m 3 & HB_K  t/m 2e      10\n",
      "60-LMS                                 7\n",
      "63-Simona                              5\n",
      "Name: building, dtype: int64\n"
     ]
    }
   ],
   "source": [
    "# check all went well\n",
    "print('to_drop',to_drop)\n",
    "print(all_data[\"building\"].value_counts())"
   ]
  },
  {
   "cell_type": "code",
   "execution_count": 9,
   "id": "loose-saver",
   "metadata": {},
   "outputs": [
    {
     "data": {
      "text/plain": [
       "(996, 12)"
      ]
     },
     "execution_count": 9,
     "metadata": {},
     "output_type": "execute_result"
    }
   ],
   "source": [
    "all_data.shape"
   ]
  },
  {
   "cell_type": "code",
   "execution_count": 10,
   "id": "coordinate-coaching",
   "metadata": {},
   "outputs": [
    {
     "data": {
      "text/plain": [
       "<AxesSubplot:>"
      ]
     },
     "execution_count": 10,
     "metadata": {},
     "output_type": "execute_result"
    },
    {
     "data": {
      "image/png": "[encoded data removed]",
      "text/plain": [
       "<Figure size 432x288 with 1 Axes>"
      ]
     },
     "metadata": {
      "needs_background": "light"
     },
     "output_type": "display_data"
    }
   ],
   "source": [
    "all_data[\"building\"].hist()"
   ]
  },
  {
   "cell_type": "code",
   "execution_count": 11,
   "id": "certain-measurement",
   "metadata": {},
   "outputs": [
    {
     "name": "stdout",
     "output_type": "stream",
     "text": [
      "         timestamp  clientCount  \\\n",
      "242  1620991804503            0   \n",
      "327  1620991804522            0   \n",
      "507  1620991804561            0   \n",
      "880  1620991804643            0   \n",
      "611  1620991804584            0   \n",
      "..             ...          ...   \n",
      "714  1620991804608            0   \n",
      "524  1620991804565            0   \n",
      "212  1620991804497            0   \n",
      "287  1620991804513            0   \n",
      "817  1620991804630            0   \n",
      "\n",
      "                                     locationHierarchy              building  \\\n",
      "242               TUDelft > 32-OCP-IO > 1e Verdieping              32-OCP-IO   \n",
      "327                  TUDelft > 34-3ME > 4e Verdieping                 34-3ME   \n",
      "507                    TUDelft > 34-3ME > Beganegrond                 34-3ME   \n",
      "880                     TUDelft > 62-LR > Beganegrond                  62-LR   \n",
      "611   System Campus > 38-Cultureel Centrum > 2e Ver...  38-Cultureel Centrum   \n",
      "..                                                 ...                   ...   \n",
      "714             TUDelft > 58-TNW-Zuid > 1e Verdieping            58-TNW-Zuid   \n",
      "524                  TUDelft > 34-3ME > 1e Verdieping                 34-3ME   \n",
      "212                   TUDelft > 32-OCP-IO > IO-Kelder              32-OCP-IO   \n",
      "287                  TUDelft > 34-3ME > 3e Verdieping                 34-3ME   \n",
      "817                   TUDelft > 62-LR > 5e Verdieping                  62-LR   \n",
      "\n",
      "               datetime        date time_5mins        bucket_5mins  \\\n",
      "242 2021-05-14 13:30:04  2021-05-14   13:30:00 2021-05-14 13:30:00   \n",
      "327 2021-05-14 13:30:04  2021-05-14   13:30:00 2021-05-14 13:30:00   \n",
      "507 2021-05-14 13:30:04  2021-05-14   13:30:00 2021-05-14 13:30:00   \n",
      "880 2021-05-14 13:30:04  2021-05-14   13:30:00 2021-05-14 13:30:00   \n",
      "611 2021-05-14 13:30:04  2021-05-14   13:30:00 2021-05-14 13:30:00   \n",
      "..                  ...         ...        ...                 ...   \n",
      "714 2021-05-14 13:30:04  2021-05-14   13:30:00 2021-05-14 13:30:00   \n",
      "524 2021-05-14 13:30:04  2021-05-14   13:30:00 2021-05-14 13:30:00   \n",
      "212 2021-05-14 13:30:04  2021-05-14   13:30:00 2021-05-14 13:30:00   \n",
      "287 2021-05-14 13:30:04  2021-05-14   13:30:00 2021-05-14 13:30:00   \n",
      "817 2021-05-14 13:30:04  2021-05-14   13:30:00 2021-05-14 13:30:00   \n",
      "\n",
      "                                  time_building  weekday  uni_hols academic_yr  \n",
      "242             2021-05-14 13:30:00 _ 32-OCP-IO     True     False       Learn  \n",
      "327                2021-05-14 13:30:00 _ 34-3ME     True     False       Learn  \n",
      "507                2021-05-14 13:30:00 _ 34-3ME     True     False       Learn  \n",
      "880                 2021-05-14 13:30:00 _ 62-LR     True     False       Learn  \n",
      "611  2021-05-14 13:30:00 _ 38-Cultureel Centrum     True     False       Learn  \n",
      "..                                          ...      ...       ...         ...  \n",
      "714           2021-05-14 13:30:00 _ 58-TNW-Zuid     True     False       Learn  \n",
      "524                2021-05-14 13:30:00 _ 34-3ME     True     False       Learn  \n",
      "212             2021-05-14 13:30:00 _ 32-OCP-IO     True     False       Learn  \n",
      "287                2021-05-14 13:30:00 _ 34-3ME     True     False       Learn  \n",
      "817                 2021-05-14 13:30:00 _ 62-LR     True     False       Learn  \n",
      "\n",
      "[796 rows x 12 columns]\n"
     ]
    }
   ],
   "source": [
    "split = StratifiedShuffleSplit(n_splits=1, test_size=0.2, random_state=42)\n",
    "\n",
    "for train_index, test_index in split.split(all_data, all_data[\"building\"]):\n",
    "    strat_train_set = all_data.loc[train_index]\n",
    "    strat_test_set = all_data.loc[test_index]\n",
    "\n",
    "print(strat_train_set)"
   ]
  },
  {
   "cell_type": "code",
   "execution_count": 12,
   "id": "dynamic-auditor",
   "metadata": {},
   "outputs": [
    {
     "data": {
      "image/png": "[encoded data removed]",
      "text/plain": [
       "<Figure size 720x360 with 4 Axes>"
      ]
     },
     "metadata": {
      "needs_background": "light"
     },
     "output_type": "display_data"
    }
   ],
   "source": [
    "%matplotlib inline\n",
    "import matplotlib.pyplot as plt\n",
    "all_data.hist(bins=50, figsize=(10,5))\n",
    "plt.show()"
   ]
  }
 ],
 "metadata": {
  "kernelspec": {
   "display_name": "mlbook",
   "language": "python",
   "name": "mlbook"
  },
  "language_info": {
   "codemirror_mode": {
    "name": "ipython",
    "version": 3
   },
   "file_extension": ".py",
   "mimetype": "text/x-python",
   "name": "python",
   "nbconvert_exporter": "python",
   "pygments_lexer": "ipython3",
   "version": "3.8.3"
  }
 },
 "nbformat": 4,
 "nbformat_minor": 5
}
