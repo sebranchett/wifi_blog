{
 "cells": [
  {
   "cell_type": "code",
   "execution_count": 1,
   "id": "simple-chuck",
   "metadata": {},
   "outputs": [],
   "source": [
    "import os\n",
    "import pandas as pd\n",
    "import datetime\n",
    "from sklearn.model_selection import StratifiedShuffleSplit\n",
    "import matplotlib.pyplot as plt"
   ]
  },
  {
   "cell_type": "code",
   "execution_count": 2,
   "id": "corporate-struggle",
   "metadata": {},
   "outputs": [],
   "source": [
    "DATA_SOURCE = \"C:/Users/sbranchett/Data/WiFi_data\"\n",
    "ACCESS_POINT = os.path.join(DATA_SOURCE, \"WiFiAccessPoint.csv\")"
   ]
  },
  {
   "cell_type": "code",
   "execution_count": 3,
   "id": "accompanied-slovak",
   "metadata": {},
   "outputs": [
    {
     "name": "stdout",
     "output_type": "stream",
     "text": [
      "             timestamp           id  clientCount  \\\n",
      "0        1620991804452    119942019            0   \n",
      "1        1620991804452    119942021            0   \n",
      "2        1620991804453    119942023            0   \n",
      "3        1620991804453    119942025            0   \n",
      "4        1620991804453    119942027            0   \n",
      "...                ...          ...          ...   \n",
      "5494085  1621608617172  21431122764            0   \n",
      "5494086  1621608617172  21431122766            0   \n",
      "5494087  1621608617172  21431122768            0   \n",
      "5494088  1621608617172  21431122770            0   \n",
      "5494089  1621608617173  21431122772            0   \n",
      "\n",
      "                             locationHierarchy   building    time_bucket  \n",
      "0            TUDelft > 31-TBM > 3e Verdieping      31-TBM  1620991800000  \n",
      "1            TUDelft > 31-TBM > 3e Verdieping      31-TBM  1620991800000  \n",
      "2            TUDelft > 31-TBM > 4e Verdieping      31-TBM  1620991800000  \n",
      "3            TUDelft > 31-TBM > 2e Verdieping      31-TBM  1620991800000  \n",
      "4            TUDelft > 31-TBM > 1e Verdieping      31-TBM  1620991800000  \n",
      "...                                        ...        ...            ...  \n",
      "5494085   TUDelft > 36-EWI-HB > 6e verdieping   36-EWI-HB  1621608600000  \n",
      "5494086   TUDelft > 36-EWI-HB > 6e verdieping   36-EWI-HB  1621608600000  \n",
      "5494087   TUDelft > 36-EWI-HB > 6e verdieping   36-EWI-HB  1621608600000  \n",
      "5494088   TUDelft > 36-EWI-HB > 6e verdieping   36-EWI-HB  1621608600000  \n",
      "5494089   TUDelft > 36-EWI-HB > 6e verdieping   36-EWI-HB  1621608600000  \n",
      "\n",
      "[5494090 rows x 6 columns]\n"
     ]
    }
   ],
   "source": [
    "def load_wifi_data(path=ACCESS_POINT):\n",
    "    \"\"\"\n",
    "    Read WiFi clientCount .csv file and add columns containing the building and timestamp bucketed to 5 minutes\n",
    "    \n",
    "    Input: filepath the .csv file\n",
    "    Output: Dataframe with columns \"timestamp\", \"id\", \"clientCount\", \"locationHierarchy\" directly from file and\n",
    "    columns \"building\", generated from \"locationHierarchy\", and \"time_bucket\", generated from \"timestamp\"\n",
    "    \"\"\"\n",
    "    interesting_columns = [\"timestamp\", \"id\", \"clientCount\", \"locationHierarchy\", \"building\", \"time_bucket\"]\n",
    "    all_data = pd.read_csv(path, delimiter=\",\")\n",
    "    all_data = all_data.rename(columns=lambda x: x.strip())\n",
    "    all_data[\"building\"] = all_data[\"locationHierarchy\"].str.split(\" > \",expand=True)[1]\n",
    "    all_data[\"building\"] = all_data[\"building\"].fillna(\"None\")\n",
    "    all_data[\"time_bucket\"] = all_data[\"timestamp\"].apply(lambda d: 300000*int(d/300000))\n",
    "    return all_data[interesting_columns]\n",
    "\n",
    "all_data = load_wifi_data()\n",
    "print(all_data)"
   ]
  },
  {
   "cell_type": "markdown",
   "id": "found-abraham",
   "metadata": {},
   "source": [
    "## points can be in different buildings"
   ]
  },
  {
   "cell_type": "markdown",
   "id": "skilled-vinyl",
   "metadata": {},
   "source": [
    "## find all buildings"
   ]
  },
  {
   "cell_type": "code",
   "execution_count": 4,
   "id": "downtown-tampa",
   "metadata": {},
   "outputs": [
    {
     "name": "stdout",
     "output_type": "stream",
     "text": [
      "<class 'pandas.core.series.Series'>\n",
      "23-CITG                              625320\n",
      "22-TNW-TN                            592416\n",
      "34-3ME                               464882\n",
      "08-BK-City                           442227\n",
      "58-TNW-Zuid                          327063\n",
      "36-EWI LB_K t/m 3 & HB_K  t/m 2e     296208\n",
      "32-OCP-IO                            294151\n",
      "62-LR                                277675\n",
      "28- WNI                              222156\n",
      "21-BTUD                              183073\n",
      "36-EWI-HB                            174817\n",
      "31-TBM                               170671\n",
      "50-TNW-RID                           166617\n",
      "20-Aula                              160436\n",
      "26-Bouwcampus                        133705\n",
      "03-Science Center                    111078\n",
      "66-Fellowship                        102850\n",
      "33-Pulse                              94622\n",
      "37-Sportcentrum                       88451\n",
      "35-Drebbelweg                         76109\n",
      "30-IKC_ISD-FMVG                       61710\n",
      "None                                  57595\n",
      "36-ESP-Lab                            51425\n",
      "38-Cultureel Centrum                  45254\n",
      "64-HSL                                43197\n",
      "61-Vliegtuighal                       37026\n",
      "30-O S                                34969\n",
      "25-GreenVillage                       30854\n",
      "46-P E lab                            22627\n",
      "32a- Learninglab                      22627\n",
      "45-LSL                                18513\n",
      "60-LMS                                14399\n",
      "05-TNW-BIO                            10285\n",
      "63-Simona                             10285\n",
      "VLL-LAB(TNO)                          10285\n",
      "43-EGM                                10284\n",
      "Katalyse Labaratorium                  6171\n",
      "19-Studuitzendbureau                   2057\n",
      "Name: building, dtype: int64\n"
     ]
    }
   ],
   "source": [
    "list_of_buildings = all_data[\"building\"].value_counts()\n",
    "print(type(list_of_buildings))\n",
    "print(list_of_buildings)"
   ]
  },
  {
   "cell_type": "markdown",
   "id": "comic-sword",
   "metadata": {},
   "source": [
    "# add values per building"
   ]
  },
  {
   "cell_type": "code",
   "execution_count": 5,
   "id": "nominated-texas",
   "metadata": {},
   "outputs": [
    {
     "name": "stdout",
     "output_type": "stream",
     "text": [
      "3597531\n"
     ]
    }
   ],
   "source": [
    "# total number of clientCount\n",
    "print(all_data[\"clientCount\"].sum())"
   ]
  },
  {
   "cell_type": "code",
   "execution_count": 6,
   "id": "secret-election",
   "metadata": {},
   "outputs": [
    {
     "name": "stdout",
     "output_type": "stream",
     "text": [
      "5494090\n"
     ]
    }
   ],
   "source": [
    "# total number of rows is 5494090\n",
    "print(list_of_buildings.values.sum())"
   ]
  },
  {
   "cell_type": "code",
   "execution_count": 7,
   "id": "solar-situation",
   "metadata": {},
   "outputs": [
    {
     "name": "stdout",
     "output_type": "stream",
     "text": [
      "23-CITG 306197 306197\n",
      "22-TNW-TN 682563 682563\n",
      "34-3ME 1145511 1145511\n",
      "08-BK-City 1497646 1497646\n",
      "58-TNW-Zuid 1830373 1830373\n",
      "36-EWI LB_K t/m 3 & HB_K  t/m 2e  1993549 1993549\n",
      "32-OCP-IO 2206211 2206211\n",
      "62-LR 2323487 2323487\n",
      "28- WNI 2377954 2377954\n",
      "21-BTUD 2602365 2602365\n",
      "36-EWI-HB 2613628 2613628\n",
      "31-TBM 2689696 2689696\n",
      "50-TNW-RID 2798594 2798594\n",
      "20-Aula 2839668 2839668\n",
      "26-Bouwcampus 2913487 2913487\n",
      "03-Science Center 2984048 2984048\n",
      "66-Fellowship 3046216 3046216\n",
      "33-Pulse 3153908 3153908\n",
      "37-Sportcentrum 3200868 3200868\n",
      "35-Drebbelweg 3240218 3240218\n",
      "30-IKC_ISD-FMVG 3356127 3356127\n",
      "None 3378882 3378882\n",
      "36-ESP-Lab 3395319 3395319\n",
      "38-Cultureel Centrum 3402366 3402366\n",
      "64-HSL 3416876 3416876\n",
      "61-Vliegtuighal 3445531 3445531\n",
      "30-O S 3454312 3454312\n",
      "25-GreenVillage 3502853 3502853\n",
      "46-P E lab 3518828 3518828\n",
      "32a- Learninglab 3519922 3519922\n",
      "45-LSL 3541973 3541973\n",
      "60-LMS 3551628 3551628\n",
      "05-TNW-BIO 3558138 3558138\n",
      "63-Simona 3563561 3563561\n",
      "VLL-LAB(TNO) 3584345 3584345\n",
      "43-EGM 3586936 3586936\n",
      "Katalyse Labaratorium 3594982 3594982\n",
      "19-Studuitzendbureau 3597531 3597531\n",
      "3597531\n",
      "3597531\n"
     ]
    }
   ],
   "source": [
    "sumall = 0\n",
    "sumbucket = 0\n",
    "for building in list_of_buildings.index:\n",
    "    building_all = all_data.loc[all_data[\"building\"] == building]\n",
    "    building_bucket_sum = building_all.groupby(\"time_bucket\").sum().drop(columns=[\"timestamp\", \"id\"])\n",
    "    sumall += building_all[\"clientCount\"].sum()\n",
    "    sumbucket += building_bucket_sum[\"clientCount\"].sum()\n",
    "    assert sumall == sumbucket\n",
    "    print(building, sumall, sumbucket)\n",
    "print(sumall)\n",
    "print(sumbucket)"
   ]
  }
 ],
 "metadata": {
  "kernelspec": {
   "display_name": "mlbook",
   "language": "python",
   "name": "mlbook"
  },
  "language_info": {
   "codemirror_mode": {
    "name": "ipython",
    "version": 3
   },
   "file_extension": ".py",
   "mimetype": "text/x-python",
   "name": "python",
   "nbconvert_exporter": "python",
   "pygments_lexer": "ipython3",
   "version": "3.8.3"
  }
 },
 "nbformat": 4,
 "nbformat_minor": 5
}
