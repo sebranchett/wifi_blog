{
 "cells": [
  {
   "cell_type": "markdown",
   "id": "laden-athens",
   "metadata": {},
   "source": [
    "## Set things up"
   ]
  },
  {
   "cell_type": "code",
   "execution_count": 1,
   "id": "simple-chuck",
   "metadata": {},
   "outputs": [],
   "source": [
    "%matplotlib inline\n",
    "import os\n",
    "import pandas as pd\n",
    "import datetime\n",
    "from sklearn.model_selection import StratifiedShuffleSplit\n",
    "import matplotlib.pyplot as plt\n",
    "\n",
    "DATA_SOURCE = \"C:/Users/sbranchett/Data/WiFi_data/WiFiAccessPoint.csv\""
   ]
  },
  {
   "cell_type": "markdown",
   "id": "magnetic-passport",
   "metadata": {},
   "source": [
    "## Read in data"
   ]
  },
  {
   "cell_type": "code",
   "execution_count": 2,
   "id": "accompanied-slovak",
   "metadata": {},
   "outputs": [
    {
     "name": "stdout",
     "output_type": "stream",
     "text": [
      "3597531\n"
     ]
    }
   ],
   "source": [
    "def load_wifi_data(path=DATA_SOURCE):\n",
    "    \"\"\"\n",
    "    Read WiFi clientCount .csv file and sum the clientCounts over building and timestamp, bucketed to 5 minutes\n",
    "    \n",
    "    Input: filepath the .csv file\n",
    "    Output: Dataframe with \"building\", \"time_bucket\", \"clientCount\"\n",
    "    Columns \"building\" generated from \"locationHierarchy\", and \"time_bucket\" generated from \"timestamp\"\n",
    "    \"\"\"\n",
    "    all_data = pd.read_csv(path, delimiter=\",\")\n",
    "    all_data = all_data.rename(columns=lambda x: x.strip())  # get rid of extra spaces in column names\n",
    "\n",
    "    sum_clientCounts = all_data[\"clientCount\"].sum()\n",
    "    \n",
    "    # extract building from 'locationHierarchy' string and deal with unknown buildings\n",
    "    all_data[\"building\"] = all_data[\"locationHierarchy\"].str.split(\" > \",expand=True)[1]\n",
    "    all_data[\"building\"] = all_data[\"building\"].fillna(\"Unknown\")\n",
    "\n",
    "    # convert timestamp from epoch milliseconds to 5 minute buckets (1000 milliseconds * 60 seconds * 5 minutes)\n",
    "    all_data[\"time_bucket\"] = all_data[\"timestamp\"].apply(lambda d: 300000*int(d/300000))\n",
    "    \n",
    "    # keep only the interesting columns\n",
    "    all_data = all_data[[\"time_bucket\", \"building\", \"clientCount\"]]\n",
    "    \n",
    "    # sum data over buildings and time buckets\n",
    "    all_data = all_data.groupby([\"time_bucket\", \"building\"]).sum()  # sort on time first so that new data keeps sequence\n",
    "    \n",
    "    assert sum_clientCounts == all_data[\"clientCount\"].sum()  # check that no clientCounts went missing\n",
    "\n",
    "    return all_data\n",
    "\n",
    "all_data = load_wifi_data()\n",
    "print(all_data[\"clientCount\"].sum())  # should be 3597531"
   ]
  },
  {
   "cell_type": "code",
   "execution_count": 3,
   "id": "separated-rough",
   "metadata": {},
   "outputs": [
    {
     "name": "stdout",
     "output_type": "stream",
     "text": [
      "         time_bucket               building  clientCount\n",
      "0      1620991800000      03-Science Center           34\n",
      "1      1620991800000             05-TNW-BIO            1\n",
      "2      1620991800000             08-BK-City            2\n",
      "3      1620991800000   19-Studuitzendbureau           13\n",
      "4      1620991800000                20-Aula           32\n",
      "...              ...                    ...          ...\n",
      "78161  1621608600000                 64-HSL           10\n",
      "78162  1621608600000          66-Fellowship          126\n",
      "78163  1621608600000  Katalyse Labaratorium            8\n",
      "78164  1621608600000                Unknown           32\n",
      "78165  1621608600000           VLL-LAB(TNO)           11\n",
      "\n",
      "[78166 rows x 3 columns]\n"
     ]
    }
   ],
   "source": [
    "all_data.reset_index(inplace=True)  # get rid of multiindex for StratifiedShuffleSplit\n",
    "print(all_data)"
   ]
  },
  {
   "cell_type": "markdown",
   "id": "variable-sussex",
   "metadata": {},
   "source": [
    "## Separate Test Set stratified over buildings"
   ]
  },
  {
   "cell_type": "code",
   "execution_count": 4,
   "id": "desperate-chambers",
   "metadata": {},
   "outputs": [
    {
     "name": "stdout",
     "output_type": "stream",
     "text": [
      "         time_bucket                           building  clientCount\n",
      "11688  1621083900000                    37-Sportcentrum           15\n",
      "61351  1621476000000                         36-ESP-Lab            1\n",
      "55780  1621431900000                      66-Fellowship          101\n",
      "26158  1621198200000                          32-OCP-IO           12\n",
      "34879  1621266900000                             64-HSL           16\n",
      "...              ...                                ...          ...\n",
      "50892  1621393500000                            28- WNI            4\n",
      "33498  1621256100000  36-EWI LB_K t/m 3 & HB_K  t/m 2e           247\n",
      "4160   1621024500000                      35-Drebbelweg            2\n",
      "56082  1621434300000                          63-Simona            8\n",
      "55786  1621432200000                         08-BK-City          670\n",
      "\n",
      "[62532 rows x 3 columns]\n"
     ]
    }
   ],
   "source": [
    "split = StratifiedShuffleSplit(n_splits=1, test_size=0.2, random_state=42)\n",
    "\n",
    "for train_index, test_index in split.split(all_data, all_data[\"building\"]):\n",
    "    strat_train_set = all_data.loc[train_index]\n",
    "    strat_test_set = all_data.loc[test_index]\n",
    "\n",
    "print(strat_train_set)"
   ]
  },
  {
   "cell_type": "code",
   "execution_count": 5,
   "id": "commercial-opportunity",
   "metadata": {},
   "outputs": [
    {
     "data": {
      "image/png": "[encoded data removed]",
      "text/plain": [
       "<Figure size 720x360 with 2 Axes>"
      ]
     },
     "metadata": {
      "needs_background": "light"
     },
     "output_type": "display_data"
    }
   ],
   "source": [
    "strat_train_set.hist(bins=50, figsize=(10,5))\n",
    "plt.show()"
   ]
  }
 ],
 "metadata": {
  "kernelspec": {
   "display_name": "mlbook",
   "language": "python",
   "name": "mlbook"
  },
  "language_info": {
   "codemirror_mode": {
    "name": "ipython",
    "version": 3
   },
   "file_extension": ".py",
   "mimetype": "text/x-python",
   "name": "python",
   "nbconvert_exporter": "python",
   "pygments_lexer": "ipython3",
   "version": "3.8.3"
  }
 },
 "nbformat": 4,
 "nbformat_minor": 5
}
