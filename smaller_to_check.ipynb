{
 "cells": [
  {
   "cell_type": "markdown",
   "id": "laden-athens",
   "metadata": {},
   "source": [
    "## Set things up"
   ]
  },
  {
   "cell_type": "code",
   "execution_count": 1,
   "id": "contemporary-buffer",
   "metadata": {},
   "outputs": [],
   "source": [
    "%matplotlib inline\n",
    "import os\n",
    "import pandas as pd\n",
    "import datetime\n",
    "import matplotlib.pyplot as plt\n",
    "import numpy as np\n",
    "\n",
    "from sklearn.model_selection import StratifiedShuffleSplit\n",
    "from sklearn.preprocessing import OneHotEncoder\n",
    "from sklearn.base import BaseEstimator, TransformerMixin\n",
    "from sklearn.pipeline import Pipeline\n",
    "from sklearn.preprocessing import StandardScaler\n",
    "from sklearn.compose import ColumnTransformer\n",
    "from sklearn.linear_model import LinearRegression\n",
    "from sklearn.metrics import mean_squared_error\n",
    "from sklearn.tree import DecisionTreeRegressor\n",
    "from sklearn.model_selection import cross_val_score\n",
    "from sklearn.ensemble import RandomForestRegressor"
   ]
  },
  {
   "cell_type": "code",
   "execution_count": 2,
   "id": "simple-chuck",
   "metadata": {},
   "outputs": [],
   "source": [
    "RAW_DATA_SOURCE = \"C:/Users/sbranchett/Data/WiFi_data/WiFiAccessPoint.csv\"\n",
    "CLEAN_DATA_SOURCE = \"CleanedWiFiAccessPoint.csv\""
   ]
  },
  {
   "cell_type": "markdown",
   "id": "magnetic-passport",
   "metadata": {},
   "source": [
    "## Read in data"
   ]
  },
  {
   "cell_type": "code",
   "execution_count": 3,
   "id": "accompanied-slovak",
   "metadata": {},
   "outputs": [
    {
     "name": "stdout",
     "output_type": "stream",
     "text": [
      "3597531\n"
     ]
    }
   ],
   "source": [
    "def load_wifi_data(path):\n",
    "    \"\"\"\n",
    "    Read WiFi clientCount .csv file and sum the clientCounts over building and timestamp, bucketed to 5 minutes\n",
    "    \n",
    "    Input: filepath the .csv file\n",
    "    Output: Dataframe with \"building\", \"time_bucket\", \"clientCount\"\n",
    "    Columns \"building\" generated from \"locationHierarchy\", and \"time_bucket\" generated from \"timestamp\"\n",
    "    \"\"\"\n",
    "    all_data = pd.read_csv(path, delimiter=\",\")\n",
    "    all_data = all_data.rename(columns=lambda x: x.strip())  # get rid of extra spaces in column names\n",
    "\n",
    "    sum_clientCounts = all_data[\"clientCount\"].sum()\n",
    "    \n",
    "    # extract building from 'locationHierarchy' string and deal with unknown buildings\n",
    "    all_data[\"building\"] = all_data[\"locationHierarchy\"].str.split(\" > \",expand=True)[1]\n",
    "    all_data[\"building\"] = all_data[\"building\"].fillna(\"Unknown\")\n",
    "\n",
    "    # convert timestamp from epoch milliseconds to 5 minute buckets (1000 milliseconds * 60 seconds * 5 minutes)\n",
    "    all_data[\"time_bucket\"] = all_data[\"timestamp\"].apply(lambda d: 300000*int(d/300000))\n",
    "    \n",
    "    # keep only the interesting columns\n",
    "    all_data = all_data[[\"time_bucket\", \"building\", \"clientCount\"]]\n",
    "    \n",
    "    # sum data over buildings and time buckets\n",
    "    all_data = all_data.groupby([\"time_bucket\", \"building\"]).sum()  # sort on time first so that new data keeps sequence\n",
    "    \n",
    "    assert sum_clientCounts == all_data[\"clientCount\"].sum()  # check that no clientCounts went missing\n",
    "\n",
    "    return all_data\n",
    "\n",
    "# if possible read in the cleaned data, otherwise clean the raw data and save\n",
    "if os.path.isfile(CLEAN_DATA_SOURCE):\n",
    "    all_data = pd.read_csv(CLEAN_DATA_SOURCE, delimiter=\",\")\n",
    "else:\n",
    "    all_data = load_wifi_data(RAW_DATA_SOURCE)\n",
    "    all_data.to_csv(CLEAN_DATA_SOURCE)\n",
    "\n",
    "print(all_data[\"clientCount\"].sum())  # should be 3597531"
   ]
  },
  {
   "cell_type": "code",
   "execution_count": 4,
   "id": "separated-rough",
   "metadata": {},
   "outputs": [
    {
     "name": "stdout",
     "output_type": "stream",
     "text": [
      "         time_bucket               building  clientCount\n",
      "0      1620991800000      03-Science Center           34\n",
      "1      1620991800000             05-TNW-BIO            1\n",
      "2      1620991800000             08-BK-City            2\n",
      "3      1620991800000   19-Studuitzendbureau           13\n",
      "4      1620991800000                20-Aula           32\n",
      "...              ...                    ...          ...\n",
      "78161  1621608600000                 64-HSL           10\n",
      "78162  1621608600000          66-Fellowship          126\n",
      "78163  1621608600000  Katalyse Labaratorium            8\n",
      "78164  1621608600000                Unknown           32\n",
      "78165  1621608600000           VLL-LAB(TNO)           11\n",
      "\n",
      "[78166 rows x 3 columns]\n"
     ]
    }
   ],
   "source": [
    "all_data = all_data.reset_index().drop(\"index\", axis=1)  # get rid of multiindex for StratifiedShuffleSplit\n",
    "print(all_data)"
   ]
  },
  {
   "cell_type": "markdown",
   "id": "variable-sussex",
   "metadata": {},
   "source": [
    "## Separate Test Set stratified over buildings"
   ]
  },
  {
   "cell_type": "code",
   "execution_count": 5,
   "id": "desperate-chambers",
   "metadata": {},
   "outputs": [
    {
     "name": "stdout",
     "output_type": "stream",
     "text": [
      "         time_bucket                           building  clientCount\n",
      "11688  1621083900000                    37-Sportcentrum           15\n",
      "61351  1621476000000                         36-ESP-Lab            1\n",
      "55780  1621431900000                      66-Fellowship          101\n",
      "26158  1621198200000                          32-OCP-IO           12\n",
      "34879  1621266900000                             64-HSL           16\n",
      "...              ...                                ...          ...\n",
      "50892  1621393500000                            28- WNI            4\n",
      "33498  1621256100000  36-EWI LB_K t/m 3 & HB_K  t/m 2e           247\n",
      "4160   1621024500000                      35-Drebbelweg            2\n",
      "56082  1621434300000                          63-Simona            8\n",
      "55786  1621432200000                         08-BK-City          670\n",
      "\n",
      "[62532 rows x 3 columns]\n"
     ]
    }
   ],
   "source": [
    "split = StratifiedShuffleSplit(n_splits=1, test_size=0.2, random_state=42)\n",
    "\n",
    "for train_index, test_index in split.split(all_data, all_data[\"building\"]):\n",
    "    strat_train_set = all_data.loc[train_index]\n",
    "    strat_test_set = all_data.loc[test_index]\n",
    "\n",
    "print(strat_train_set)"
   ]
  },
  {
   "cell_type": "markdown",
   "id": "advised-fraud",
   "metadata": {},
   "source": [
    "## Create Work days and Student days"
   ]
  },
  {
   "cell_type": "code",
   "execution_count": 6,
   "id": "prescribed-central",
   "metadata": {},
   "outputs": [],
   "source": [
    "uni_hols = (datetime.date(year=2021, month=5, day=5),\n",
    "            datetime.date(year=2021, month=5, day=13),\n",
    "            datetime.date(year=2021, month=5, day=14),\n",
    "            datetime.date(year=2021, month=5, day=24)\n",
    "           )  # National Holidays and Collective Free days\n",
    "\n",
    "def roster(date):\n",
    "    # categorise the days of the academic year at TU Delft between 1 May 2021 and 29 August 2021\n",
    "    \n",
    "    if (date > datetime.date(year=2021, month=5, day=16)) and \\\n",
    "       (date < datetime.date(year=2021, month=5, day=22)):\n",
    "        categorie = \"Exam_BSc\"\n",
    "    elif (date > datetime.date(year=2021, month=6, day=15)) and \\\n",
    "         (date < datetime.date(year=2021, month=6, day=19)):\n",
    "        categorie = \"Study_mixed\"\n",
    "    elif (date > datetime.date(year=2021, month=6, day=22)) and \\\n",
    "         (date < datetime.date(year=2021, month=6, day=26)):\n",
    "        categorie = \"Exam_mixed\"\n",
    "    elif (date > datetime.date(year=2021, month=6, day=29)) and \\\n",
    "         (date < datetime.date(year=2021, month=7, day=3)):\n",
    "        categorie = \"Exam\"\n",
    "    elif (date > datetime.date(year=2021, month=8, day=8)) and \\\n",
    "         (date < datetime.date(year=2021, month=8, day=14)):\n",
    "        categorie = \"Exam\"\n",
    "    elif (date > datetime.date(year=2021, month=7, day=4)):\n",
    "        categorie = \"Free\"\n",
    "    else:\n",
    "        categorie = \"Learn\"\n",
    "    return categorie"
   ]
  },
  {
   "cell_type": "markdown",
   "id": "found-mathematics",
   "metadata": {},
   "source": [
    "## Separate predictions and labels"
   ]
  },
  {
   "cell_type": "code",
   "execution_count": 7,
   "id": "different-giving",
   "metadata": {},
   "outputs": [
    {
     "name": "stdout",
     "output_type": "stream",
     "text": [
      "         time_bucket                           building\n",
      "11688  1621083900000                    37-Sportcentrum\n",
      "61351  1621476000000                         36-ESP-Lab\n",
      "55780  1621431900000                      66-Fellowship\n",
      "26158  1621198200000                          32-OCP-IO\n",
      "34879  1621266900000                             64-HSL\n",
      "...              ...                                ...\n",
      "50892  1621393500000                            28- WNI\n",
      "33498  1621256100000  36-EWI LB_K t/m 3 & HB_K  t/m 2e \n",
      "4160   1621024500000                      35-Drebbelweg\n",
      "56082  1621434300000                          63-Simona\n",
      "55786  1621432200000                         08-BK-City\n",
      "\n",
      "[62532 rows x 2 columns]\n"
     ]
    }
   ],
   "source": [
    "crowd = strat_train_set.drop(\"clientCount\", axis=1)\n",
    "crowd_labels = strat_train_set[\"clientCount\"].copy()\n",
    "print(crowd)"
   ]
  },
  {
   "cell_type": "code",
   "execution_count": 8,
   "id": "shaped-greeting",
   "metadata": {},
   "outputs": [],
   "source": [
    "assert crowd.isnull().values.any() == False  # check there are no missing values"
   ]
  },
  {
   "cell_type": "markdown",
   "id": "partial-contractor",
   "metadata": {},
   "source": [
    "## Build Transformers"
   ]
  },
  {
   "cell_type": "code",
   "execution_count": 9,
   "id": "developing-sodium",
   "metadata": {},
   "outputs": [],
   "source": [
    "# specify which extra attributes to add to the data\n",
    "# want to treat these as hyperparameters for grid search\n",
    "add_day_of_week=False\n",
    "add_time_of_day=False\n",
    "add_uni_hols=False\n",
    "add_weekend=False\n",
    "add_academic_yr=False"
   ]
  },
  {
   "cell_type": "code",
   "execution_count": 10,
   "id": "following-japan",
   "metadata": {},
   "outputs": [
    {
     "name": "stdout",
     "output_type": "stream",
     "text": [
      "[['35-Drebbelweg', '66-Fellowship', '31-TBM', '26-Bouwcampus', '43-EGM', 'Unknown', '05-TNW-BIO', '03-Science Center', 'VLL-LAB(TNO)', '23-CITG', '32-OCP-IO', '58-TNW-Zuid', '20-Aula', '32a- Learninglab', '36-ESP-Lab', '46-P E lab', '45-LSL', '38-Cultureel Centrum', '30-IKC_ISD-FMVG', '33-Pulse', '22-TNW-TN', '64-HSL', '21-BTUD', '60-LMS', '50-TNW-RID', '34-3ME', '61-Vliegtuighal', '25-GreenVillage', '37-Sportcentrum', '08-BK-City', '36-EWI LB_K t/m 3 & HB_K  t/m 2e ', '36-EWI-HB', '19-Studuitzendbureau', 'Katalyse Labaratorium', '28- WNI', '30-O S', '62-LR', '63-Simona']]\n"
     ]
    }
   ],
   "source": [
    "# Set up categories for OneHotEncoder.\n",
    "# This is needed later for the transformation of small sets that do not contain all the categories.\n",
    "\n",
    "buildings = list(set(all_data[\"building\"].values))  # get a list of all buildings\n",
    "all_categories = [buildings]\n",
    "if add_academic_yr:\n",
    "    rosters = [\"Exam_BSc\", \"Study_mixed\", \"Exam_mixed\", \"Exam\", \"Free\", \"Learn\"]  # get a list of all roster categories, SEB could be improved\n",
    "    all_categories.append(rosters)\n",
    "    \n",
    "print(all_categories)"
   ]
  },
  {
   "cell_type": "code",
   "execution_count": 11,
   "id": "touched-request",
   "metadata": {},
   "outputs": [],
   "source": [
    "class CombinedAttributesAdder(BaseEstimator, TransformerMixin):\n",
    "    def __init__(self, add_day_of_week=True, add_time_of_day=True, add_uni_hols=True, add_weekend=True, add_academic_yr=True):\n",
    "        self.add_day_of_week = add_day_of_week\n",
    "        self.add_time_of_day = add_time_of_day\n",
    "        self.add_uni_hols = add_uni_hols\n",
    "        self.add_weekend = add_weekend\n",
    "        self.add_academic_yr = add_academic_yr\n",
    "        self.num_attribs = [\"time_bucket\"]\n",
    "        self.cat_attribs = [\"building\"]\n",
    "        if self.add_day_of_week:\n",
    "            self.num_attribs.extend([\"day_of_week\"])\n",
    "        if self.add_time_of_day:\n",
    "            self.num_attribs.extend([\"time_of_day\"])\n",
    "        if self.add_uni_hols:\n",
    "            self.num_attribs.extend([\"hols\"])\n",
    "        if self.add_weekend:\n",
    "            self.num_attribs.extend([\"weekend\"])\n",
    "        if self.add_academic_yr:\n",
    "            self.cat_attribs.extend([\"academic_yr\"])\n",
    "\n",
    "    def fit(self, X, y=None):\n",
    "        return self\n",
    "\n",
    "    def transform(self, X):\n",
    "        X_trans = X.copy()\n",
    "        if self.add_day_of_week:\n",
    "            X_trans[\"day_of_week\"] = X[\"time_bucket\"].apply(lambda d: datetime.datetime.fromtimestamp(d/1000).weekday())\n",
    "        if self.add_time_of_day:\n",
    "            X_trans[\"time_of_day\"] = X[\"time_bucket\"].apply(lambda d: int(d%86400000))\n",
    "        if self.add_uni_hols:\n",
    "            X_trans[\"hols\"] = X[\"time_bucket\"].apply(lambda d: 1. if datetime.datetime.fromtimestamp(d/1000).date() in uni_hols else 0.)\n",
    "        if self.add_weekend:\n",
    "            X_trans[\"weekend\"] = X[\"time_bucket\"].apply(lambda d: 1. if datetime.datetime.fromtimestamp(d/1000).weekday() > 4 else 0.)\n",
    "        if self.add_academic_yr:\n",
    "            X_trans[\"academic_yr\"] = X[\"time_bucket\"].apply(lambda d: roster(datetime.datetime.fromtimestamp(d/1000).date()))\n",
    "        return X_trans"
   ]
  },
  {
   "cell_type": "code",
   "execution_count": 12,
   "id": "compliant-daily",
   "metadata": {},
   "outputs": [
    {
     "name": "stdout",
     "output_type": "stream",
     "text": [
      "         time_bucket                           building\n",
      "11688  1621083900000                    37-Sportcentrum\n",
      "61351  1621476000000                         36-ESP-Lab\n",
      "55780  1621431900000                      66-Fellowship\n",
      "26158  1621198200000                          32-OCP-IO\n",
      "34879  1621266900000                             64-HSL\n",
      "...              ...                                ...\n",
      "50892  1621393500000                            28- WNI\n",
      "33498  1621256100000  36-EWI LB_K t/m 3 & HB_K  t/m 2e \n",
      "4160   1621024500000                      35-Drebbelweg\n",
      "56082  1621434300000                          63-Simona\n",
      "55786  1621432200000                         08-BK-City\n",
      "\n",
      "[62532 rows x 2 columns]\n",
      "['time_bucket']\n",
      "['building']\n"
     ]
    }
   ],
   "source": [
    "crowd_attributes = CombinedAttributesAdder(add_day_of_week, add_time_of_day, add_uni_hols, add_weekend, add_academic_yr)\n",
    "crowd_extra_attribs = crowd_attributes.transform(crowd)\n",
    "print(crowd_extra_attribs)\n",
    "print(crowd_attributes.num_attribs)\n",
    "print(crowd_attributes.cat_attribs)"
   ]
  },
  {
   "cell_type": "code",
   "execution_count": 13,
   "id": "effective-despite",
   "metadata": {},
   "outputs": [],
   "source": [
    "# build a pipeline for the numerical attributes\n",
    "num_pipeline = Pipeline([\n",
    "    ('std_scaler', StandardScaler())\n",
    "])\n",
    "\n",
    "# build a pipeline for the categorical attributes\n",
    "cat_pipeline = Pipeline([\n",
    "    ('one_hot', OneHotEncoder(categories=all_categories))\n",
    "])"
   ]
  },
  {
   "cell_type": "code",
   "execution_count": 14,
   "id": "clinical-edition",
   "metadata": {},
   "outputs": [],
   "source": [
    "# combine the pipelines based on column type\n",
    "full_pipeline = ColumnTransformer([\n",
    "    (\"num\", num_pipeline, crowd_attributes.num_attribs),\n",
    "    (\"cat\", cat_pipeline, crowd_attributes.cat_attribs),\n",
    "])"
   ]
  },
  {
   "cell_type": "code",
   "execution_count": 15,
   "id": "minute-campaign",
   "metadata": {},
   "outputs": [
    {
     "name": "stdout",
     "output_type": "stream",
     "text": [
      "[[-1.21669404  0.          0.         ...  0.          0.\n",
      "   0.        ]\n",
      " [ 0.98681612  0.          0.         ...  0.          0.\n",
      "   0.        ]\n",
      " [ 0.73898445  0.          1.         ...  0.          0.\n",
      "   0.        ]\n",
      " ...\n",
      " [-1.55050812  1.          0.         ...  0.          0.\n",
      "   0.        ]\n",
      " [ 0.75247189  0.          0.         ...  0.          0.\n",
      "   1.        ]\n",
      " [ 0.74067038  0.          0.         ...  0.          0.\n",
      "   0.        ]]\n",
      "(62532, 39)\n"
     ]
    }
   ],
   "source": [
    "crowd_prepared = full_pipeline.fit_transform(crowd_extra_attribs)  # this gives a sparse matrix, sometimes!\n",
    "print(crowd_prepared.toarray())\n",
    "print(crowd_prepared.toarray().shape)"
   ]
  },
  {
   "cell_type": "markdown",
   "id": "altered-prayer",
   "metadata": {},
   "source": [
    "## Select and Train a model"
   ]
  },
  {
   "cell_type": "code",
   "execution_count": 16,
   "id": "labeled-alert",
   "metadata": {},
   "outputs": [],
   "source": [
    "def display_scores(scores):\n",
    "    print(\"Scores:\", scores)\n",
    "    print(\"Mean:\", scores.mean())\n",
    "    print(\"Standard deviation:\", scores.std())"
   ]
  },
  {
   "cell_type": "code",
   "execution_count": 17,
   "id": "signed-fence",
   "metadata": {},
   "outputs": [
    {
     "data": {
      "text/plain": [
       "LinearRegression()"
      ]
     },
     "execution_count": 17,
     "metadata": {},
     "output_type": "execute_result"
    }
   ],
   "source": [
    "lin_reg = LinearRegression()\n",
    "lin_reg.fit(crowd_prepared, crowd_labels)"
   ]
  },
  {
   "cell_type": "code",
   "execution_count": 18,
   "id": "engaged-village",
   "metadata": {},
   "outputs": [
    {
     "name": "stdout",
     "output_type": "stream",
     "text": [
      "         time_bucket         building\n",
      "11688  1621083900000  37-Sportcentrum\n",
      "61351  1621476000000       36-ESP-Lab\n",
      "55780  1621431900000    66-Fellowship\n",
      "26158  1621198200000        32-OCP-IO\n",
      "34879  1621266900000           64-HSL\n",
      "  (0, 0)\t-1.2166940375438953\n",
      "  (0, 29)\t1.0\n",
      "  (1, 0)\t0.9868161220193287\n",
      "  (1, 15)\t1.0\n",
      "  (2, 0)\t0.7389844514334113\n",
      "  (2, 2)\t1.0\n",
      "  (3, 0)\t-0.5743548096987626\n",
      "  (3, 11)\t1.0\n",
      "  (4, 0)\t-0.1882769010989323\n",
      "  (4, 22)\t1.0\n",
      "(5, 39)\n"
     ]
    }
   ],
   "source": [
    "# prepare a small data set to test\n",
    "some_data = crowd.iloc[:5]\n",
    "some_labels = crowd_labels[:5]\n",
    "\n",
    "some_data_extra_attribs = crowd_attributes.transform(some_data)\n",
    "print(some_data_extra_attribs)\n",
    "\n",
    "some_data_prepared = full_pipeline.transform(some_data_extra_attribs)  # this gives a sparse matrix!\n",
    "print(some_data_prepared)\n",
    "print(some_data_prepared.shape)"
   ]
  },
  {
   "cell_type": "code",
   "execution_count": 19,
   "id": "afraid-kinase",
   "metadata": {},
   "outputs": [
    {
     "name": "stdout",
     "output_type": "stream",
     "text": [
      "Predictions: [-4.09034619 29.51389653 46.61437119 90.81130431  2.72771724]\n",
      "Labels: [15, 1, 101, 12, 16]\n"
     ]
    }
   ],
   "source": [
    "# check out the predictions\n",
    "print(\"Predictions:\", lin_reg.predict(some_data_prepared))\n",
    "print(\"Labels:\", list(some_labels))"
   ]
  },
  {
   "cell_type": "code",
   "execution_count": 20,
   "id": "disturbed-specific",
   "metadata": {},
   "outputs": [
    {
     "name": "stdout",
     "output_type": "stream",
     "text": [
      "98.85758754633113\n"
     ]
    }
   ],
   "source": [
    "crowd_predictions = lin_reg.predict(crowd_prepared)\n",
    "lin_mse = mean_squared_error(crowd_labels, crowd_predictions)\n",
    "lin_rmse = np.sqrt(lin_mse)\n",
    "print(lin_rmse)"
   ]
  },
  {
   "cell_type": "code",
   "execution_count": 21,
   "id": "ambient-african",
   "metadata": {},
   "outputs": [
    {
     "name": "stdout",
     "output_type": "stream",
     "text": [
      "Scores: [ 96.97297372  97.19832538  97.07997626  99.40851547 107.23853795\n",
      "  93.84044059  98.79687373 100.18162608 102.20682774  96.08328742]\n",
      "Mean: 98.90073843579958\n",
      "Standard deviation: 3.5472909705449793\n"
     ]
    }
   ],
   "source": [
    "lin_scores = cross_val_score(lin_reg, crowd_prepared, crowd_labels, scoring=\"neg_mean_squared_error\", cv=10)\n",
    "lin_rmse_scores = np.sqrt(-lin_scores)\n",
    "display_scores(lin_rmse_scores)"
   ]
  },
  {
   "cell_type": "code",
   "execution_count": 22,
   "id": "sublime-encounter",
   "metadata": {},
   "outputs": [
    {
     "name": "stdout",
     "output_type": "stream",
     "text": [
      "0.0\n"
     ]
    }
   ],
   "source": [
    "tree_reg = DecisionTreeRegressor()\n",
    "tree_reg.fit(crowd_prepared, crowd_labels)\n",
    "\n",
    "crowd_predictions = tree_reg.predict(crowd_prepared)\n",
    "tree_mse = mean_squared_error(crowd_labels, crowd_predictions)\n",
    "tree_rmse = np.sqrt(tree_mse)\n",
    "print(tree_rmse)"
   ]
  },
  {
   "cell_type": "code",
   "execution_count": 23,
   "id": "excessive-minute",
   "metadata": {},
   "outputs": [
    {
     "name": "stdout",
     "output_type": "stream",
     "text": [
      "Scores: [5.27252201 5.41721132 5.31753584 5.35954962 5.34435498 5.27721825\n",
      " 4.91450983 4.9378514  5.07638755 5.06994102]\n",
      "Mean: 5.198708181324643\n",
      "Standard deviation: 0.17346964775625623\n"
     ]
    }
   ],
   "source": [
    "scores = cross_val_score(tree_reg, crowd_prepared, crowd_labels, scoring=\"neg_mean_squared_error\", cv=10)\n",
    "tree_rmse_scores = np.sqrt(-scores)\n",
    "\n",
    "display_scores(tree_rmse_scores)"
   ]
  },
  {
   "cell_type": "code",
   "execution_count": 24,
   "id": "prescribed-candy",
   "metadata": {},
   "outputs": [
    {
     "name": "stdout",
     "output_type": "stream",
     "text": [
      "Predictions: [ 15.   1. 101.  12.  16.]\n",
      "Labels: [15, 1, 101, 12, 16]\n"
     ]
    }
   ],
   "source": [
    "# check out the predictions\n",
    "print(\"Predictions:\", tree_reg.predict(some_data_prepared))\n",
    "print(\"Labels:\", list(some_labels))"
   ]
  },
  {
   "cell_type": "markdown",
   "id": "metallic-trademark",
   "metadata": {},
   "source": [
    "## Let's take a look at how are predictions are doing"
   ]
  },
  {
   "cell_type": "code",
   "execution_count": 25,
   "id": "municipal-volume",
   "metadata": {},
   "outputs": [],
   "source": [
    "first_time_stamp = all_data[\"time_bucket\"].min()\n",
    "last_time_stamp = all_data[\"time_bucket\"].max()\n",
    "\n",
    "a_building = \"20-Aula\"\n",
    "a_building_data = strat_train_set.loc[strat_train_set[\"building\"] == a_building]"
   ]
  },
  {
   "cell_type": "code",
   "execution_count": 26,
   "id": "nonprofit-number",
   "metadata": {},
   "outputs": [
    {
     "data": {
      "image/png": "[encoded data removed]",
      "text/plain": [
       "<Figure size 1440x360 with 1 Axes>"
      ]
     },
     "metadata": {
      "needs_background": "light"
     },
     "output_type": "display_data"
    }
   ],
   "source": [
    "times = list(range(first_time_stamp, last_time_stamp + 300000, 300000))\n",
    "\n",
    "test = pd.DataFrame()\n",
    "test[\"time_bucket\"] = times\n",
    "test[\"building\"] = a_building\n",
    "\n",
    "test_extra_attribs = crowd_attributes.transform(test)\n",
    "test_prepared = full_pipeline.transform(test_extra_attribs)\n",
    "\n",
    "lin_preds = lin_reg.predict(test_prepared)\n",
    "tree_preds = tree_reg.predict(test_prepared)\n",
    "xes = test[\"time_bucket\"]\n",
    "\n",
    "plt.figure(figsize=(20,5))\n",
    "plt.title(a_building)\n",
    "plt.axis([first_time_stamp, last_time_stamp, -100, 200])\n",
    "plt.plot(a_building_data[\"time_bucket\"], a_building_data[\"clientCount\"], 'bo', times, lin_preds, 'g--', times, tree_preds, 'r--')\n",
    "plt.show()"
   ]
  },
  {
   "cell_type": "markdown",
   "id": "sharp-scenario",
   "metadata": {},
   "source": [
    "## See what happens when we try to predict the future"
   ]
  },
  {
   "cell_type": "code",
   "execution_count": 27,
   "id": "gross-texture",
   "metadata": {},
   "outputs": [
    {
     "data": {
      "image/png": "[encoded data removed]",
      "text/plain": [
       "<Figure size 1440x360 with 1 Axes>"
      ]
     },
     "metadata": {
      "needs_background": "light"
     },
     "output_type": "display_data"
    }
   ],
   "source": [
    "extra_days = 1\n",
    "latest_time_stamp = last_time_stamp + extra_days*86400000 + 300000\n",
    "times = list(range(first_time_stamp, latest_time_stamp, 300000))\n",
    "\n",
    "test = pd.DataFrame()\n",
    "test[\"time_bucket\"] = times\n",
    "test[\"building\"] = a_building\n",
    "test_extra_attribs = crowd_attributes.transform(test)\n",
    "test_prepared = full_pipeline.transform(test_extra_attribs)\n",
    "lin_preds = lin_reg.predict(test_prepared)\n",
    "tree_preds = tree_reg.predict(test_prepared)\n",
    "\n",
    "plt.figure(figsize=(20,5))\n",
    "plt.title(a_building)\n",
    "plt.axis([first_time_stamp, latest_time_stamp, -100, 200])\n",
    "plt.plot(a_building_data[\"time_bucket\"], a_building_data[\"clientCount\"], 'bo', times, lin_preds, 'g--', times, tree_preds, 'r--')\n",
    "plt.show()"
   ]
  }
 ],
 "metadata": {
  "kernelspec": {
   "display_name": "mlbook",
   "language": "python",
   "name": "mlbook"
  },
  "language_info": {
   "codemirror_mode": {
    "name": "ipython",
    "version": 3
   },
   "file_extension": ".py",
   "mimetype": "text/x-python",
   "name": "python",
   "nbconvert_exporter": "python",
   "pygments_lexer": "ipython3",
   "version": "3.8.3"
  }
 },
 "nbformat": 4,
 "nbformat_minor": 5
}
